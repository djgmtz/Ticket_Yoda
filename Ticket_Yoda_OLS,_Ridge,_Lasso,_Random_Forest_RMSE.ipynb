{
  "nbformat": 4,
  "nbformat_minor": 0,
  "metadata": {
    "colab": {
      "name": "Ticket Yoda - OLS, Ridge, Lasso, Random Forest - RMSE",
      "version": "0.3.2",
      "provenance": [],
      "collapsed_sections": [],
      "toc_visible": true
    },
    "kernelspec": {
      "name": "python3",
      "display_name": "Python 3"
    },
    "accelerator": "TPU"
  },
  "cells": [
    {
      "metadata": {
        "id": "f7rouLyw6ej5",
        "colab_type": "text"
      },
      "cell_type": "markdown",
      "source": [
        "#MSE - OLS,Ridge,Lasso"
      ]
    },
    {
      "metadata": {
        "id": "IzyXPB1X33sZ",
        "colab_type": "code",
        "outputId": "d0b577e2-884f-432a-e05d-5734708504ac",
        "colab": {
          "base_uri": "https://localhost:8080/",
          "height": 170
        }
      },
      "cell_type": "code",
      "source": [
        "# Code to read csv file into Colaboratory:\n",
        "!pip install -U -q PyDrive\n",
        "from pydrive.auth import GoogleAuth\n",
        "from pydrive.drive import GoogleDrive\n",
        "from google.colab import auth\n",
        "from oauth2client.client import GoogleCredentials\n",
        "from google.colab import files\n",
        "import numpy as np\n",
        "from scipy import stats\n",
        "import seaborn as sns\n",
        "import pandas as pd\n",
        "import io\n",
        "# Authenticate and create the PyDrive client.\n",
        "auth.authenticate_user()\n",
        "gauth = GoogleAuth()\n",
        "gauth.credentials = GoogleCredentials.get_application_default()\n",
        "drive = GoogleDrive(gauth)"
      ],
      "execution_count": 0,
      "outputs": [
        {
          "output_type": "stream",
          "text": [
            "\u001b[?25l\r\u001b[K    1% |▎                               | 10kB 20.7MB/s eta 0:00:01\r\u001b[K    2% |▋                               | 20kB 2.2MB/s eta 0:00:01\r\u001b[K    3% |█                               | 30kB 3.2MB/s eta 0:00:01\r\u001b[K    4% |█▎                              | 40kB 2.1MB/s eta 0:00:01\r\u001b[K    5% |█▋                              | 51kB 2.6MB/s eta 0:00:01\r\u001b[K    6% |██                              | 61kB 3.1MB/s eta 0:00:01\r\u001b[K    7% |██▎                             | 71kB 3.5MB/s eta 0:00:01\r\u001b[K    8% |██▋                             | 81kB 4.0MB/s eta 0:00:01\r\u001b[K    9% |███                             | 92kB 4.4MB/s eta 0:00:01\r\u001b[K    10% |███▎                            | 102kB 3.4MB/s eta 0:00:01\r\u001b[K    11% |███▋                            | 112kB 3.4MB/s eta 0:00:01\r\u001b[K    12% |████                            | 122kB 4.8MB/s eta 0:00:01\r\u001b[K    13% |████▎                           | 133kB 4.8MB/s eta 0:00:01\r\u001b[K    14% |████▋                           | 143kB 8.8MB/s eta 0:00:01\r\u001b[K    15% |█████                           | 153kB 8.9MB/s eta 0:00:01\r\u001b[K    16% |█████▎                          | 163kB 9.0MB/s eta 0:00:01\r\u001b[K    17% |█████▋                          | 174kB 9.1MB/s eta 0:00:01\r\u001b[K    18% |██████                          | 184kB 9.2MB/s eta 0:00:01\r\u001b[K    19% |██████▎                         | 194kB 9.2MB/s eta 0:00:01\r\u001b[K    20% |██████▋                         | 204kB 41.1MB/s eta 0:00:01\r\u001b[K    21% |███████                         | 215kB 10.4MB/s eta 0:00:01\r\u001b[K    22% |███████▎                        | 225kB 10.3MB/s eta 0:00:01\r\u001b[K    23% |███████▋                        | 235kB 10.4MB/s eta 0:00:01\r\u001b[K    24% |████████                        | 245kB 10.4MB/s eta 0:00:01\r\u001b[K    25% |████████▎                       | 256kB 10.4MB/s eta 0:00:01\r\u001b[K    26% |████████▋                       | 266kB 10.0MB/s eta 0:00:01\r\u001b[K    27% |█████████                       | 276kB 10.2MB/s eta 0:00:01\r\u001b[K    29% |█████████▎                      | 286kB 10.2MB/s eta 0:00:01\r\u001b[K    30% |█████████▋                      | 296kB 10.2MB/s eta 0:00:01\r\u001b[K    31% |██████████                      | 307kB 10.5MB/s eta 0:00:01\r\u001b[K    32% |██████████▎                     | 317kB 46.5MB/s eta 0:00:01\r\u001b[K    33% |██████████▋                     | 327kB 49.0MB/s eta 0:00:01\r\u001b[K    34% |███████████                     | 337kB 50.6MB/s eta 0:00:01\r\u001b[K    35% |███████████▎                    | 348kB 45.4MB/s eta 0:00:01\r\u001b[K    36% |███████████▋                    | 358kB 45.8MB/s eta 0:00:01\r\u001b[K    37% |████████████                    | 368kB 52.8MB/s eta 0:00:01\r\u001b[K    38% |████████████▎                   | 378kB 52.9MB/s eta 0:00:01\r\u001b[K    39% |████████████▋                   | 389kB 54.9MB/s eta 0:00:01\r\u001b[K    40% |█████████████                   | 399kB 12.3MB/s eta 0:00:01\r\u001b[K    41% |█████████████▎                  | 409kB 12.2MB/s eta 0:00:01\r\u001b[K    42% |█████████████▋                  | 419kB 12.1MB/s eta 0:00:01\r\u001b[K    43% |██████████████                  | 430kB 12.1MB/s eta 0:00:01\r\u001b[K    44% |██████████████▎                 | 440kB 12.1MB/s eta 0:00:01\r\u001b[K    45% |██████████████▋                 | 450kB 12.2MB/s eta 0:00:01\r\u001b[K    46% |███████████████                 | 460kB 12.2MB/s eta 0:00:01\r\u001b[K    47% |███████████████▎                | 471kB 12.2MB/s eta 0:00:01\r\u001b[K    48% |███████████████▋                | 481kB 12.2MB/s eta 0:00:01\r\u001b[K    49% |████████████████                | 491kB 12.1MB/s eta 0:00:01\r\u001b[K    50% |████████████████▎               | 501kB 51.9MB/s eta 0:00:01\r\u001b[K    51% |████████████████▋               | 512kB 49.6MB/s eta 0:00:01\r\u001b[K    52% |█████████████████               | 522kB 50.0MB/s eta 0:00:01\r\u001b[K    53% |█████████████████▎              | 532kB 50.2MB/s eta 0:00:01\r\u001b[K    54% |█████████████████▋              | 542kB 49.7MB/s eta 0:00:01\r\u001b[K    55% |██████████████████              | 552kB 55.3MB/s eta 0:00:01\r\u001b[K    57% |██████████████████▎             | 563kB 55.4MB/s eta 0:00:01\r\u001b[K    58% |██████████████████▋             | 573kB 54.3MB/s eta 0:00:01\r\u001b[K    59% |███████████████████             | 583kB 54.7MB/s eta 0:00:01\r\u001b[K    60% |███████████████████▎            | 593kB 53.9MB/s eta 0:00:01\r\u001b[K    61% |███████████████████▋            | 604kB 54.1MB/s eta 0:00:01\r\u001b[K    62% |████████████████████            | 614kB 58.6MB/s eta 0:00:01\r\u001b[K    63% |████████████████████▎           | 624kB 59.5MB/s eta 0:00:01\r\u001b[K    64% |████████████████████▋           | 634kB 60.8MB/s eta 0:00:01\r\u001b[K    65% |█████████████████████           | 645kB 60.6MB/s eta 0:00:01\r\u001b[K    66% |█████████████████████▎          | 655kB 59.6MB/s eta 0:00:01\r\u001b[K    67% |█████████████████████▋          | 665kB 45.6MB/s eta 0:00:01\r\u001b[K    68% |██████████████████████          | 675kB 45.4MB/s eta 0:00:01\r\u001b[K    69% |██████████████████████▎         | 686kB 46.3MB/s eta 0:00:01\r\u001b[K    70% |██████████████████████▋         | 696kB 16.0MB/s eta 0:00:01\r\u001b[K    71% |███████████████████████         | 706kB 15.8MB/s eta 0:00:01\r\u001b[K    72% |███████████████████████▎        | 716kB 15.7MB/s eta 0:00:01\r\u001b[K    73% |███████████████████████▋        | 727kB 15.6MB/s eta 0:00:01\r\u001b[K    74% |████████████████████████        | 737kB 15.6MB/s eta 0:00:01\r\u001b[K    75% |████████████████████████▎       | 747kB 15.6MB/s eta 0:00:01\r\u001b[K    76% |████████████████████████▋       | 757kB 15.6MB/s eta 0:00:01\r\u001b[K    77% |████████████████████████▉       | 768kB 17.0MB/s eta 0:00:01\r\u001b[K    78% |█████████████████████████▏      | 778kB 17.0MB/s eta 0:00:01\r\u001b[K    79% |█████████████████████████▌      | 788kB 16.9MB/s eta 0:00:01\r\u001b[K    80% |█████████████████████████▉      | 798kB 56.8MB/s eta 0:00:01\r\u001b[K    81% |██████████████████████████▏     | 808kB 58.0MB/s eta 0:00:01\r\u001b[K    82% |██████████████████████████▌     | 819kB 60.0MB/s eta 0:00:01\r\u001b[K    83% |██████████████████████████▉     | 829kB 60.6MB/s eta 0:00:01\r\u001b[K    85% |███████████████████████████▏    | 839kB 60.7MB/s eta 0:00:01\r\u001b[K    86% |███████████████████████████▌    | 849kB 61.1MB/s eta 0:00:01\r\u001b[K    87% |███████████████████████████▉    | 860kB 51.7MB/s eta 0:00:01\r\u001b[K    88% |████████████████████████████▏   | 870kB 51.1MB/s eta 0:00:01\r\u001b[K    89% |████████████████████████████▌   | 880kB 51.9MB/s eta 0:00:01\r\u001b[K    90% |████████████████████████████▉   | 890kB 52.1MB/s eta 0:00:01\r\u001b[K    91% |█████████████████████████████▏  | 901kB 51.6MB/s eta 0:00:01\r\u001b[K    92% |█████████████████████████████▌  | 911kB 52.1MB/s eta 0:00:01\r\u001b[K    93% |█████████████████████████████▉  | 921kB 52.4MB/s eta 0:00:01\r\u001b[K    94% |██████████████████████████████▏ | 931kB 52.9MB/s eta 0:00:01\r\u001b[K    95% |██████████████████████████████▌ | 942kB 52.5MB/s eta 0:00:01\r\u001b[K    96% |██████████████████████████████▉ | 952kB 51.6MB/s eta 0:00:01\r\u001b[K    97% |███████████████████████████████▏| 962kB 60.9MB/s eta 0:00:01\r\u001b[K    98% |███████████████████████████████▌| 972kB 62.3MB/s eta 0:00:01\r\u001b[K    99% |███████████████████████████████▉| 983kB 62.1MB/s eta 0:00:01\r\u001b[K    100% |████████████████████████████████| 993kB 19.9MB/s \n",
            "\u001b[?25h  Building wheel for PyDrive (setup.py) ... \u001b[?25ldone\n",
            "\u001b[?25h\n",
            "WARNING: The TensorFlow contrib module will not be included in TensorFlow 2.0.\n",
            "For more information, please see:\n",
            "  * https://github.com/tensorflow/community/blob/master/rfcs/20180907-contrib-sunset.md\n",
            "  * https://github.com/tensorflow/addons\n",
            "If you depend on functionality not listed there, please file an issue.\n",
            "\n"
          ],
          "name": "stdout"
        }
      ]
    },
    {
      "metadata": {
        "id": "GxhDai7k4L3P",
        "colab_type": "code",
        "colab": {}
      },
      "cell_type": "code",
      "source": [
        "id='1bcu2TSWXPFedsnmQV2BppNpnMU6YC6Qv' # The id File\n",
        "downloaded = drive.CreateFile({'id':id}) \n",
        "downloaded.GetContentFile('FINAL_MASTER.csv')  \n",
        "df = pd.read_csv('FINAL_MASTER.csv')\n"
      ],
      "execution_count": 0,
      "outputs": []
    },
    {
      "metadata": {
        "id": "tuwNIIHu51Mn",
        "colab_type": "code",
        "outputId": "04ac62e9-36e0-4a84-d218-d7cd04e36c67",
        "colab": {
          "base_uri": "https://localhost:8080/",
          "height": 423
        }
      },
      "cell_type": "code",
      "source": [
        "df.head()"
      ],
      "execution_count": 0,
      "outputs": [
        {
          "output_type": "execute_result",
          "data": {
            "text/html": [
              "<div>\n",
              "<style scoped>\n",
              "    .dataframe tbody tr th:only-of-type {\n",
              "        vertical-align: middle;\n",
              "    }\n",
              "\n",
              "    .dataframe tbody tr th {\n",
              "        vertical-align: top;\n",
              "    }\n",
              "\n",
              "    .dataframe thead th {\n",
              "        text-align: right;\n",
              "    }\n",
              "</style>\n",
              "<table border=\"1\" class=\"dataframe\">\n",
              "  <thead>\n",
              "    <tr style=\"text-align: right;\">\n",
              "      <th></th>\n",
              "      <th>artist</th>\n",
              "      <th>date</th>\n",
              "      <th>weekday</th>\n",
              "      <th>promoter</th>\n",
              "      <th>SG_venue</th>\n",
              "      <th>venue_city</th>\n",
              "      <th>venue_state</th>\n",
              "      <th>TM_max</th>\n",
              "      <th>SG_max_price</th>\n",
              "      <th>TM_min</th>\n",
              "      <th>...</th>\n",
              "      <th>daystoconcert</th>\n",
              "      <th>segment</th>\n",
              "      <th>genre</th>\n",
              "      <th>subGenre</th>\n",
              "      <th>Capture_date</th>\n",
              "      <th>SG_listing_count</th>\n",
              "      <th>SG_venue_score</th>\n",
              "      <th>max_pop</th>\n",
              "      <th>max_follow</th>\n",
              "      <th>SG_artists_score</th>\n",
              "    </tr>\n",
              "  </thead>\n",
              "  <tbody>\n",
              "    <tr>\n",
              "      <th>0</th>\n",
              "      <td>Lake Street Dive</td>\n",
              "      <td>1/15/2019</td>\n",
              "      <td>Tuesday</td>\n",
              "      <td>PROMOTED BY VENUE</td>\n",
              "      <td>Ponte Vedra Concert Hall</td>\n",
              "      <td>Ponte Vedra Beach</td>\n",
              "      <td>FL</td>\n",
              "      <td>34.5</td>\n",
              "      <td>36.0</td>\n",
              "      <td>34.5</td>\n",
              "      <td>...</td>\n",
              "      <td>0</td>\n",
              "      <td>Music</td>\n",
              "      <td>Rock</td>\n",
              "      <td>Alternative Rock</td>\n",
              "      <td>1/15/2019</td>\n",
              "      <td>3</td>\n",
              "      <td>0.466979</td>\n",
              "      <td>64</td>\n",
              "      <td>191086</td>\n",
              "      <td>0.56</td>\n",
              "    </tr>\n",
              "    <tr>\n",
              "      <th>1</th>\n",
              "      <td>Mineral</td>\n",
              "      <td>1/16/2019</td>\n",
              "      <td>Wednesday</td>\n",
              "      <td>LIVE NATION MUSIC</td>\n",
              "      <td>Theatre of Living Arts</td>\n",
              "      <td>Philadelphia</td>\n",
              "      <td>PA</td>\n",
              "      <td>25.0</td>\n",
              "      <td>109.0</td>\n",
              "      <td>25.0</td>\n",
              "      <td>...</td>\n",
              "      <td>1</td>\n",
              "      <td>Music</td>\n",
              "      <td>Rock</td>\n",
              "      <td>Alternative Rock</td>\n",
              "      <td>1/15/2019</td>\n",
              "      <td>35</td>\n",
              "      <td>0.503499</td>\n",
              "      <td>41</td>\n",
              "      <td>19707</td>\n",
              "      <td>0.39</td>\n",
              "    </tr>\n",
              "    <tr>\n",
              "      <th>2</th>\n",
              "      <td>Mineral</td>\n",
              "      <td>1/16/2019</td>\n",
              "      <td>Wednesday</td>\n",
              "      <td>LIVE NATION MUSIC</td>\n",
              "      <td>Theatre of Living Arts</td>\n",
              "      <td>Philadelphia</td>\n",
              "      <td>PA</td>\n",
              "      <td>25.0</td>\n",
              "      <td>68.0</td>\n",
              "      <td>25.0</td>\n",
              "      <td>...</td>\n",
              "      <td>0</td>\n",
              "      <td>Music</td>\n",
              "      <td>Rock</td>\n",
              "      <td>Alternative Rock</td>\n",
              "      <td>1/16/2019</td>\n",
              "      <td>5</td>\n",
              "      <td>0.503499</td>\n",
              "      <td>41</td>\n",
              "      <td>19746</td>\n",
              "      <td>0.39</td>\n",
              "    </tr>\n",
              "    <tr>\n",
              "      <th>3</th>\n",
              "      <td>Dylan Scott</td>\n",
              "      <td>1/17/2019</td>\n",
              "      <td>Thursday</td>\n",
              "      <td>LIVE NATION MUSIC</td>\n",
              "      <td>Gramercy Theatre</td>\n",
              "      <td>New York</td>\n",
              "      <td>NY</td>\n",
              "      <td>50.5</td>\n",
              "      <td>286.0</td>\n",
              "      <td>30.5</td>\n",
              "      <td>...</td>\n",
              "      <td>2</td>\n",
              "      <td>Music</td>\n",
              "      <td>Country</td>\n",
              "      <td>Country</td>\n",
              "      <td>1/15/2019</td>\n",
              "      <td>14</td>\n",
              "      <td>0.515187</td>\n",
              "      <td>66</td>\n",
              "      <td>372825</td>\n",
              "      <td>0.49</td>\n",
              "    </tr>\n",
              "    <tr>\n",
              "      <th>4</th>\n",
              "      <td>Vertical Horizon</td>\n",
              "      <td>1/17/2019</td>\n",
              "      <td>Thursday</td>\n",
              "      <td>PROMOTED BY VENUE</td>\n",
              "      <td>Highline Ballroom</td>\n",
              "      <td>New York</td>\n",
              "      <td>NY</td>\n",
              "      <td>75.0</td>\n",
              "      <td>217.0</td>\n",
              "      <td>35.0</td>\n",
              "      <td>...</td>\n",
              "      <td>2</td>\n",
              "      <td>Music</td>\n",
              "      <td>Rock</td>\n",
              "      <td>Alternative Rock</td>\n",
              "      <td>1/15/2019</td>\n",
              "      <td>10</td>\n",
              "      <td>0.506355</td>\n",
              "      <td>56</td>\n",
              "      <td>184769</td>\n",
              "      <td>0.42</td>\n",
              "    </tr>\n",
              "  </tbody>\n",
              "</table>\n",
              "<p>5 rows × 22 columns</p>\n",
              "</div>"
            ],
            "text/plain": [
              "             artist       date    weekday           promoter  \\\n",
              "0  Lake Street Dive  1/15/2019    Tuesday  PROMOTED BY VENUE   \n",
              "1           Mineral  1/16/2019  Wednesday  LIVE NATION MUSIC   \n",
              "2           Mineral  1/16/2019  Wednesday  LIVE NATION MUSIC   \n",
              "3       Dylan Scott  1/17/2019   Thursday  LIVE NATION MUSIC   \n",
              "4  Vertical Horizon  1/17/2019   Thursday  PROMOTED BY VENUE   \n",
              "\n",
              "                   SG_venue         venue_city venue_state  TM_max  \\\n",
              "0  Ponte Vedra Concert Hall  Ponte Vedra Beach          FL    34.5   \n",
              "1    Theatre of Living Arts       Philadelphia          PA    25.0   \n",
              "2    Theatre of Living Arts       Philadelphia          PA    25.0   \n",
              "3          Gramercy Theatre           New York          NY    50.5   \n",
              "4         Highline Ballroom           New York          NY    75.0   \n",
              "\n",
              "   SG_max_price  TM_min  ...  daystoconcert  segment    genre  \\\n",
              "0          36.0    34.5  ...              0    Music     Rock   \n",
              "1         109.0    25.0  ...              1    Music     Rock   \n",
              "2          68.0    25.0  ...              0    Music     Rock   \n",
              "3         286.0    30.5  ...              2    Music  Country   \n",
              "4         217.0    35.0  ...              2    Music     Rock   \n",
              "\n",
              "           subGenre Capture_date SG_listing_count SG_venue_score  max_pop  \\\n",
              "0  Alternative Rock    1/15/2019                3       0.466979       64   \n",
              "1  Alternative Rock    1/15/2019               35       0.503499       41   \n",
              "2  Alternative Rock    1/16/2019                5       0.503499       41   \n",
              "3           Country    1/15/2019               14       0.515187       66   \n",
              "4  Alternative Rock    1/15/2019               10       0.506355       56   \n",
              "\n",
              "   max_follow  SG_artists_score  \n",
              "0      191086              0.56  \n",
              "1       19707              0.39  \n",
              "2       19746              0.39  \n",
              "3      372825              0.49  \n",
              "4      184769              0.42  \n",
              "\n",
              "[5 rows x 22 columns]"
            ]
          },
          "metadata": {
            "tags": []
          },
          "execution_count": 3
        }
      ]
    },
    {
      "metadata": {
        "id": "NeKQ4wK7muh7",
        "colab_type": "text"
      },
      "cell_type": "markdown",
      "source": [
        "#Data cleaning"
      ]
    },
    {
      "metadata": {
        "id": "AzfMV-GAjzZg",
        "colab_type": "code",
        "colab": {}
      },
      "cell_type": "code",
      "source": [
        "##Removing rows accordingly to our data cleaning process\n",
        "#Remove max popularity < 10\n",
        "#Remove max followers <10\n",
        "#Remove data points with average price > 400 (IQR 0.75 - 0.25 + Mean)\n",
        "#Drop any lines with NA, None\n",
        "#Remove venue score 0 and artist score 0\n",
        "\n",
        "df = df[df['SG_average_price'] > 0]\n",
        "\n",
        "df=df[df['SG_average_price'] <= 400]\n",
        "\n",
        "df=df[df['max_pop'] >=10]\n",
        "\n",
        "df=df[df['max_follow'] >=10]\n",
        "\n",
        "df=df[df['SG_venue_score'] >=0.1]\n",
        "\n",
        "df=df[df['SG_artists_score'] >=0.1]\n",
        "\n"
      ],
      "execution_count": 0,
      "outputs": []
    },
    {
      "metadata": {
        "id": "Joh3sRUVKhme",
        "colab_type": "code",
        "outputId": "5ca2308a-7936-4435-c186-dfc4cc127d58",
        "colab": {
          "base_uri": "https://localhost:8080/",
          "height": 408
        }
      },
      "cell_type": "code",
      "source": [
        "#drop NAs\n",
        "df.isna().sum()\n",
        "df= df.dropna()\n",
        "df.isna().sum()\n"
      ],
      "execution_count": 0,
      "outputs": [
        {
          "output_type": "execute_result",
          "data": {
            "text/plain": [
              "artist              0\n",
              "date                0\n",
              "weekday             0\n",
              "promoter            0\n",
              "SG_venue            0\n",
              "venue_city          0\n",
              "venue_state         0\n",
              "TM_max              0\n",
              "SG_max_price        0\n",
              "TM_min              0\n",
              "SG_min_price        0\n",
              "SG_average_price    0\n",
              "daystoconcert       0\n",
              "segment             0\n",
              "genre               0\n",
              "subGenre            0\n",
              "Capture_date        0\n",
              "SG_listing_count    0\n",
              "SG_venue_score      0\n",
              "max_pop             0\n",
              "max_follow          0\n",
              "SG_artists_score    0\n",
              "dtype: int64"
            ]
          },
          "metadata": {
            "tags": []
          },
          "execution_count": 5
        }
      ]
    },
    {
      "metadata": {
        "id": "Md8iacrFkp1j",
        "colab_type": "code",
        "outputId": "5fdec106-30a6-43d6-85bc-4313f38b4f8b",
        "colab": {
          "base_uri": "https://localhost:8080/",
          "height": 34
        }
      },
      "cell_type": "code",
      "source": [
        "df.shape"
      ],
      "execution_count": 0,
      "outputs": [
        {
          "output_type": "execute_result",
          "data": {
            "text/plain": [
              "(11861, 22)"
            ]
          },
          "metadata": {
            "tags": []
          },
          "execution_count": 6
        }
      ]
    },
    {
      "metadata": {
        "id": "7ABZFaaa5FCG",
        "colab_type": "code",
        "colab": {}
      },
      "cell_type": "code",
      "source": [
        "#Change to numeric\n",
        "\n",
        "df[\"SG_artists_score\"] = pd.to_numeric(df[\"SG_artists_score\"])\n",
        "df[\"SG_venue_score\"] = pd.to_numeric(df[\"SG_venue_score\"])\n",
        "df[\"max_pop\"] = pd.to_numeric(df[\"max_pop\"])\n",
        "df[\"max_follow\"] = pd.to_numeric(df[\"max_follow\"])\n",
        "df[\"daystoconcert\"] = pd.to_numeric(df[\"daystoconcert\"])\n",
        "df[\"SG_average_price\"] = pd.to_numeric(df[\"SG_average_price\"])\n",
        "\n",
        "#Change text object to String\n",
        "\n",
        "df[[\"promoter\", \"genre\",\"subGenre\",\"venue_city\",\"venue_state\",\"SG_venue\",\"weekday\"]] = df[[\"promoter\", \"genre\",\"subGenre\",\"venue_city\",\"venue_state\", \"SG_venue\",\"weekday\"]].astype(str) \n",
        "\n",
        "\n",
        "#Coerce string to categories\n",
        "df[\"promoter\"] = df[\"promoter\"].astype('category')\n",
        "df[\"genre\"] = df[\"genre\"].astype('category')\n",
        "df[\"subGenre\"] = df[\"subGenre\"].astype('category')\n",
        "df[\"venue_city\"] = df[\"venue_city\"].astype('category')\n",
        "df[\"venue_state\"] = df[\"venue_state\"].astype('category')\n",
        "df[\"weekday\"] = df[\"weekday\"].astype('category')\n",
        "df[\"SG_venue\"] = df[\"SG_venue\"].astype('category')\n"
      ],
      "execution_count": 0,
      "outputs": []
    },
    {
      "metadata": {
        "id": "0yGBxvT55KaQ",
        "colab_type": "code",
        "outputId": "a3310760-3f81-4910-dcf2-4bf1f9ceed38",
        "colab": {
          "base_uri": "https://localhost:8080/",
          "height": 408
        }
      },
      "cell_type": "code",
      "source": [
        "df.dtypes"
      ],
      "execution_count": 0,
      "outputs": [
        {
          "output_type": "execute_result",
          "data": {
            "text/plain": [
              "artist                object\n",
              "date                  object\n",
              "weekday             category\n",
              "promoter            category\n",
              "SG_venue            category\n",
              "venue_city          category\n",
              "venue_state         category\n",
              "TM_max               float64\n",
              "SG_max_price         float64\n",
              "TM_min               float64\n",
              "SG_min_price         float64\n",
              "SG_average_price     float64\n",
              "daystoconcert          int64\n",
              "segment               object\n",
              "genre               category\n",
              "subGenre            category\n",
              "Capture_date          object\n",
              "SG_listing_count       int64\n",
              "SG_venue_score       float64\n",
              "max_pop                int64\n",
              "max_follow             int64\n",
              "SG_artists_score     float64\n",
              "dtype: object"
            ]
          },
          "metadata": {
            "tags": []
          },
          "execution_count": 8
        }
      ]
    },
    {
      "metadata": {
        "id": "sdTyd3PKm860",
        "colab_type": "text"
      },
      "cell_type": "markdown",
      "source": [
        "#OLS Model"
      ]
    },
    {
      "metadata": {
        "id": "4i3NSccztDx3",
        "colab_type": "code",
        "colab": {}
      },
      "cell_type": "code",
      "source": [
        "#import libraries for modeling\n",
        "from pandas.plotting import scatter_matrix\n",
        "import matplotlib.pyplot as plt\n",
        "from sklearn import model_selection\n",
        "from sklearn.metrics import classification_report\n",
        "from sklearn.metrics import confusion_matrix\n",
        "from sklearn.metrics import accuracy_score\n",
        "from sklearn.linear_model import LogisticRegression\n",
        "from sklearn.tree import DecisionTreeClassifier\n",
        "from sklearn.neighbors import KNeighborsClassifier\n",
        "from sklearn.model_selection import train_test_split\n",
        "from sklearn.discriminant_analysis import LinearDiscriminantAnalysis\n",
        "from sklearn.naive_bayes import GaussianNB\n",
        "from sklearn.svm import SVC\n"
      ],
      "execution_count": 0,
      "outputs": []
    },
    {
      "metadata": {
        "id": "QCocMuPA2k-3",
        "colab_type": "code",
        "colab": {}
      },
      "cell_type": "code",
      "source": [
        "#Removing target column from ORIGINAL DF\n",
        "\n",
        "##Data\n",
        "#Output is Type pandas df\n",
        "X = df[['SG_artists_score',\n",
        "'venue_city',\n",
        "'SG_venue_score',\n",
        "'venue_state',\n",
        "'max_pop',\n",
        "'max_follow',\n",
        "'daystoconcert',\n",
        "        \"genre\",\n",
        "       \"weekday\"]]\n",
        "\n",
        "#Target\n",
        "#Output is Type pandas df\n",
        "Y = df[['SG_average_price']].astype(int)\n",
        "\n"
      ],
      "execution_count": 0,
      "outputs": []
    },
    {
      "metadata": {
        "id": "IoA4qMwwZv5t",
        "colab_type": "code",
        "outputId": "b0811006-4ce8-4877-dc7b-a22622360b06",
        "colab": {
          "base_uri": "https://localhost:8080/",
          "height": 204
        }
      },
      "cell_type": "code",
      "source": [
        "X.head()"
      ],
      "execution_count": 0,
      "outputs": [
        {
          "output_type": "execute_result",
          "data": {
            "text/html": [
              "<div>\n",
              "<style scoped>\n",
              "    .dataframe tbody tr th:only-of-type {\n",
              "        vertical-align: middle;\n",
              "    }\n",
              "\n",
              "    .dataframe tbody tr th {\n",
              "        vertical-align: top;\n",
              "    }\n",
              "\n",
              "    .dataframe thead th {\n",
              "        text-align: right;\n",
              "    }\n",
              "</style>\n",
              "<table border=\"1\" class=\"dataframe\">\n",
              "  <thead>\n",
              "    <tr style=\"text-align: right;\">\n",
              "      <th></th>\n",
              "      <th>SG_artists_score</th>\n",
              "      <th>venue_city</th>\n",
              "      <th>SG_venue_score</th>\n",
              "      <th>venue_state</th>\n",
              "      <th>max_pop</th>\n",
              "      <th>max_follow</th>\n",
              "      <th>daystoconcert</th>\n",
              "      <th>genre</th>\n",
              "      <th>weekday</th>\n",
              "    </tr>\n",
              "  </thead>\n",
              "  <tbody>\n",
              "    <tr>\n",
              "      <th>0</th>\n",
              "      <td>0.56</td>\n",
              "      <td>Ponte Vedra Beach</td>\n",
              "      <td>0.466979</td>\n",
              "      <td>FL</td>\n",
              "      <td>64</td>\n",
              "      <td>191086</td>\n",
              "      <td>0</td>\n",
              "      <td>Rock</td>\n",
              "      <td>Tuesday</td>\n",
              "    </tr>\n",
              "    <tr>\n",
              "      <th>1</th>\n",
              "      <td>0.39</td>\n",
              "      <td>Philadelphia</td>\n",
              "      <td>0.503499</td>\n",
              "      <td>PA</td>\n",
              "      <td>41</td>\n",
              "      <td>19707</td>\n",
              "      <td>1</td>\n",
              "      <td>Rock</td>\n",
              "      <td>Wednesday</td>\n",
              "    </tr>\n",
              "    <tr>\n",
              "      <th>2</th>\n",
              "      <td>0.39</td>\n",
              "      <td>Philadelphia</td>\n",
              "      <td>0.503499</td>\n",
              "      <td>PA</td>\n",
              "      <td>41</td>\n",
              "      <td>19746</td>\n",
              "      <td>0</td>\n",
              "      <td>Rock</td>\n",
              "      <td>Wednesday</td>\n",
              "    </tr>\n",
              "    <tr>\n",
              "      <th>3</th>\n",
              "      <td>0.49</td>\n",
              "      <td>New York</td>\n",
              "      <td>0.515187</td>\n",
              "      <td>NY</td>\n",
              "      <td>66</td>\n",
              "      <td>372825</td>\n",
              "      <td>2</td>\n",
              "      <td>Country</td>\n",
              "      <td>Thursday</td>\n",
              "    </tr>\n",
              "    <tr>\n",
              "      <th>4</th>\n",
              "      <td>0.42</td>\n",
              "      <td>New York</td>\n",
              "      <td>0.506355</td>\n",
              "      <td>NY</td>\n",
              "      <td>56</td>\n",
              "      <td>184769</td>\n",
              "      <td>2</td>\n",
              "      <td>Rock</td>\n",
              "      <td>Thursday</td>\n",
              "    </tr>\n",
              "  </tbody>\n",
              "</table>\n",
              "</div>"
            ],
            "text/plain": [
              "   SG_artists_score         venue_city  SG_venue_score venue_state  max_pop  \\\n",
              "0              0.56  Ponte Vedra Beach        0.466979          FL       64   \n",
              "1              0.39       Philadelphia        0.503499          PA       41   \n",
              "2              0.39       Philadelphia        0.503499          PA       41   \n",
              "3              0.49           New York        0.515187          NY       66   \n",
              "4              0.42           New York        0.506355          NY       56   \n",
              "\n",
              "   max_follow  daystoconcert    genre    weekday  \n",
              "0      191086              0     Rock    Tuesday  \n",
              "1       19707              1     Rock  Wednesday  \n",
              "2       19746              0     Rock  Wednesday  \n",
              "3      372825              2  Country   Thursday  \n",
              "4      184769              2     Rock   Thursday  "
            ]
          },
          "metadata": {
            "tags": []
          },
          "execution_count": 11
        }
      ]
    },
    {
      "metadata": {
        "id": "g5MvEPaur9tu",
        "colab_type": "code",
        "colab": {}
      },
      "cell_type": "code",
      "source": [
        "#One Hot! \n",
        "\n",
        "\n",
        "dummies1 = pd.get_dummies(df['promoter'])\n",
        "X= pd.concat([X,dummies1],axis=1)\n",
        "\n",
        "dummies2 = pd.get_dummies(df['genre'])\n",
        "X= pd.concat([X,dummies2],axis=1)\n",
        "\n",
        "dummies3 = pd.get_dummies(df['subGenre'])\n",
        "X= pd.concat([X,dummies3],axis=1)\n",
        "\n",
        "dummies4 = pd.get_dummies(df['venue_city'])\n",
        "X= pd.concat([X,dummies4],axis=1)\n",
        "\n",
        "dummies5 = pd.get_dummies(df['venue_state'])\n",
        "X= pd.concat([X,dummies5],axis=1)\n",
        "\n",
        "dummies6 = pd.get_dummies(df['weekday'])\n",
        "X= pd.concat([X,dummies6],axis=1)\n",
        "\n"
      ],
      "execution_count": 0,
      "outputs": []
    },
    {
      "metadata": {
        "id": "nCCVpXLyBpJW",
        "colab_type": "code",
        "colab": {}
      },
      "cell_type": "code",
      "source": [
        "#DROP COLUMNS THAT WE USE GET DUMMIES ON\n",
        "\n",
        "X.drop(columns=['genre','venue_city','venue_state','weekday' ], inplace=True)\n"
      ],
      "execution_count": 0,
      "outputs": []
    },
    {
      "metadata": {
        "id": "xilbA_tLeVLC",
        "colab_type": "code",
        "outputId": "71951c8c-301d-4cb1-e8f4-7114478c2578",
        "colab": {
          "base_uri": "https://localhost:8080/",
          "height": 321
        }
      },
      "cell_type": "code",
      "source": [
        "#Check if columns were removed\n",
        "X.head()"
      ],
      "execution_count": 0,
      "outputs": [
        {
          "output_type": "execute_result",
          "data": {
            "text/html": [
              "<div>\n",
              "<style scoped>\n",
              "    .dataframe tbody tr th:only-of-type {\n",
              "        vertical-align: middle;\n",
              "    }\n",
              "\n",
              "    .dataframe tbody tr th {\n",
              "        vertical-align: top;\n",
              "    }\n",
              "\n",
              "    .dataframe thead th {\n",
              "        text-align: right;\n",
              "    }\n",
              "</style>\n",
              "<table border=\"1\" class=\"dataframe\">\n",
              "  <thead>\n",
              "    <tr style=\"text-align: right;\">\n",
              "      <th></th>\n",
              "      <th>SG_artists_score</th>\n",
              "      <th>SG_venue_score</th>\n",
              "      <th>max_pop</th>\n",
              "      <th>max_follow</th>\n",
              "      <th>daystoconcert</th>\n",
              "      <th>191 TOURING</th>\n",
              "      <th>AEG - TICKETING</th>\n",
              "      <th>AEG LIVE</th>\n",
              "      <th>AL WASH</th>\n",
              "      <th>ANDREW HEWITT &amp; BILL SILVA PRESENTS</th>\n",
              "      <th>...</th>\n",
              "      <th>PA</th>\n",
              "      <th>TN</th>\n",
              "      <th>TX</th>\n",
              "      <th>Friday</th>\n",
              "      <th>Monday</th>\n",
              "      <th>Saturday</th>\n",
              "      <th>Sunday</th>\n",
              "      <th>Thursday</th>\n",
              "      <th>Tuesday</th>\n",
              "      <th>Wednesday</th>\n",
              "    </tr>\n",
              "  </thead>\n",
              "  <tbody>\n",
              "    <tr>\n",
              "      <th>0</th>\n",
              "      <td>0.56</td>\n",
              "      <td>0.466979</td>\n",
              "      <td>64</td>\n",
              "      <td>191086</td>\n",
              "      <td>0</td>\n",
              "      <td>0</td>\n",
              "      <td>0</td>\n",
              "      <td>0</td>\n",
              "      <td>0</td>\n",
              "      <td>0</td>\n",
              "      <td>...</td>\n",
              "      <td>0</td>\n",
              "      <td>0</td>\n",
              "      <td>0</td>\n",
              "      <td>0</td>\n",
              "      <td>0</td>\n",
              "      <td>0</td>\n",
              "      <td>0</td>\n",
              "      <td>0</td>\n",
              "      <td>1</td>\n",
              "      <td>0</td>\n",
              "    </tr>\n",
              "    <tr>\n",
              "      <th>1</th>\n",
              "      <td>0.39</td>\n",
              "      <td>0.503499</td>\n",
              "      <td>41</td>\n",
              "      <td>19707</td>\n",
              "      <td>1</td>\n",
              "      <td>0</td>\n",
              "      <td>0</td>\n",
              "      <td>0</td>\n",
              "      <td>0</td>\n",
              "      <td>0</td>\n",
              "      <td>...</td>\n",
              "      <td>1</td>\n",
              "      <td>0</td>\n",
              "      <td>0</td>\n",
              "      <td>0</td>\n",
              "      <td>0</td>\n",
              "      <td>0</td>\n",
              "      <td>0</td>\n",
              "      <td>0</td>\n",
              "      <td>0</td>\n",
              "      <td>1</td>\n",
              "    </tr>\n",
              "    <tr>\n",
              "      <th>2</th>\n",
              "      <td>0.39</td>\n",
              "      <td>0.503499</td>\n",
              "      <td>41</td>\n",
              "      <td>19746</td>\n",
              "      <td>0</td>\n",
              "      <td>0</td>\n",
              "      <td>0</td>\n",
              "      <td>0</td>\n",
              "      <td>0</td>\n",
              "      <td>0</td>\n",
              "      <td>...</td>\n",
              "      <td>1</td>\n",
              "      <td>0</td>\n",
              "      <td>0</td>\n",
              "      <td>0</td>\n",
              "      <td>0</td>\n",
              "      <td>0</td>\n",
              "      <td>0</td>\n",
              "      <td>0</td>\n",
              "      <td>0</td>\n",
              "      <td>1</td>\n",
              "    </tr>\n",
              "    <tr>\n",
              "      <th>3</th>\n",
              "      <td>0.49</td>\n",
              "      <td>0.515187</td>\n",
              "      <td>66</td>\n",
              "      <td>372825</td>\n",
              "      <td>2</td>\n",
              "      <td>0</td>\n",
              "      <td>0</td>\n",
              "      <td>0</td>\n",
              "      <td>0</td>\n",
              "      <td>0</td>\n",
              "      <td>...</td>\n",
              "      <td>0</td>\n",
              "      <td>0</td>\n",
              "      <td>0</td>\n",
              "      <td>0</td>\n",
              "      <td>0</td>\n",
              "      <td>0</td>\n",
              "      <td>0</td>\n",
              "      <td>1</td>\n",
              "      <td>0</td>\n",
              "      <td>0</td>\n",
              "    </tr>\n",
              "    <tr>\n",
              "      <th>4</th>\n",
              "      <td>0.42</td>\n",
              "      <td>0.506355</td>\n",
              "      <td>56</td>\n",
              "      <td>184769</td>\n",
              "      <td>2</td>\n",
              "      <td>0</td>\n",
              "      <td>0</td>\n",
              "      <td>0</td>\n",
              "      <td>0</td>\n",
              "      <td>0</td>\n",
              "      <td>...</td>\n",
              "      <td>0</td>\n",
              "      <td>0</td>\n",
              "      <td>0</td>\n",
              "      <td>0</td>\n",
              "      <td>0</td>\n",
              "      <td>0</td>\n",
              "      <td>0</td>\n",
              "      <td>1</td>\n",
              "      <td>0</td>\n",
              "      <td>0</td>\n",
              "    </tr>\n",
              "  </tbody>\n",
              "</table>\n",
              "<p>5 rows × 230 columns</p>\n",
              "</div>"
            ],
            "text/plain": [
              "   SG_artists_score  SG_venue_score  max_pop  max_follow  daystoconcert  \\\n",
              "0              0.56        0.466979       64      191086              0   \n",
              "1              0.39        0.503499       41       19707              1   \n",
              "2              0.39        0.503499       41       19746              0   \n",
              "3              0.49        0.515187       66      372825              2   \n",
              "4              0.42        0.506355       56      184769              2   \n",
              "\n",
              "   191 TOURING  AEG - TICKETING  AEG LIVE  AL WASH  \\\n",
              "0            0                0         0        0   \n",
              "1            0                0         0        0   \n",
              "2            0                0         0        0   \n",
              "3            0                0         0        0   \n",
              "4            0                0         0        0   \n",
              "\n",
              "   ANDREW HEWITT & BILL SILVA PRESENTS  ...  PA  TN  TX  Friday  Monday  \\\n",
              "0                                    0  ...   0   0   0       0       0   \n",
              "1                                    0  ...   1   0   0       0       0   \n",
              "2                                    0  ...   1   0   0       0       0   \n",
              "3                                    0  ...   0   0   0       0       0   \n",
              "4                                    0  ...   0   0   0       0       0   \n",
              "\n",
              "   Saturday  Sunday  Thursday  Tuesday  Wednesday  \n",
              "0         0       0         0        1          0  \n",
              "1         0       0         0        0          1  \n",
              "2         0       0         0        0          1  \n",
              "3         0       0         1        0          0  \n",
              "4         0       0         1        0          0  \n",
              "\n",
              "[5 rows x 230 columns]"
            ]
          },
          "metadata": {
            "tags": []
          },
          "execution_count": 14
        }
      ]
    },
    {
      "metadata": {
        "id": "yAsnuPuKbEyY",
        "colab_type": "text"
      },
      "cell_type": "markdown",
      "source": [
        "## Spliting data into test and train\n"
      ]
    },
    {
      "metadata": {
        "id": "m5jtLhEW5zZ4",
        "colab_type": "code",
        "colab": {}
      },
      "cell_type": "code",
      "source": [
        "##Import function for splitting arrays or matrices into random train and test subsets\n",
        "from sklearn.model_selection import train_test_split\n",
        "\n",
        "# Import StandardScaler\n",
        "from sklearn.preprocessing import StandardScaler\n",
        "\n",
        "\n",
        "# Split \n",
        "X_train, X_test, y_train, y_test = train_test_split(X, Y, test_size=.2,random_state=1)"
      ],
      "execution_count": 0,
      "outputs": []
    },
    {
      "metadata": {
        "id": "DCnlATU-6Sli",
        "colab_type": "code",
        "outputId": "723f264c-995e-47f1-8769-4f3568af037b",
        "colab": {
          "base_uri": "https://localhost:8080/",
          "height": 119
        }
      },
      "cell_type": "code",
      "source": [
        "print (\"X.shape:\", X.shape)\n",
        "print (\"Y.shape:\", Y.shape)\n",
        "print (\"X_train.shape:\", X_train.shape)\n",
        "print (\"X_test.shape:\", X_test.shape)\n",
        "print (\"y_train.shape:\", y_train.shape)\n",
        "print (\"y_test.shape:\", y_test.shape)"
      ],
      "execution_count": 0,
      "outputs": [
        {
          "output_type": "stream",
          "text": [
            "X.shape: (11861, 230)\n",
            "Y.shape: (11861, 1)\n",
            "X_train.shape: (9488, 230)\n",
            "X_test.shape: (2373, 230)\n",
            "y_train.shape: (9488, 1)\n",
            "y_test.shape: (2373, 1)\n"
          ],
          "name": "stdout"
        }
      ]
    },
    {
      "metadata": {
        "id": "wrNDLQGkAKg2",
        "colab_type": "text"
      },
      "cell_type": "markdown",
      "source": [
        "##Fitting, training and predicting models."
      ]
    },
    {
      "metadata": {
        "id": "37Kwa7bugOcq",
        "colab_type": "code",
        "colab": {}
      },
      "cell_type": "code",
      "source": [
        "from sklearn.linear_model import LinearRegression\n",
        "from sklearn import linear_model\n",
        "from sklearn.metrics import mean_squared_error, r2_score\n",
        "\n",
        "# Create linear regression object\n",
        "regr = linear_model.LinearRegression()\n",
        "\n",
        "# Train the model using the training sets\n",
        "regr.fit(X_train, y_train)\n",
        "\n",
        "# Make predictions using the testing set\n",
        "y_pred = regr.predict(X_test)\n"
      ],
      "execution_count": 0,
      "outputs": []
    },
    {
      "metadata": {
        "id": "qBtwHT_dg3mH",
        "colab_type": "code",
        "outputId": "425d9cac-25ee-4958-faf3-5a488a17b81a",
        "colab": {
          "base_uri": "https://localhost:8080/",
          "height": 51
        }
      },
      "cell_type": "code",
      "source": [
        "# The coefficients\n",
        "#print('Coefficients: \\n', regr.coef_)\n",
        "# The mean squared error\n",
        "print(\"Mean squared error: %.2f\"\n",
        "      % mean_squared_error(y_test, y_pred))\n",
        "# Explained variance score: 1 is perfect prediction\n",
        "print('Variance score: %.2f' % r2_score(y_test, y_pred))"
      ],
      "execution_count": 0,
      "outputs": [
        {
          "output_type": "stream",
          "text": [
            "Mean squared error: 2599.57\n",
            "Variance score: 0.53\n"
          ],
          "name": "stdout"
        }
      ]
    },
    {
      "metadata": {
        "colab_type": "text",
        "id": "3_IB75nTW4nM"
      },
      "cell_type": "markdown",
      "source": [
        "#Lasoo and Ridge MSE\n"
      ]
    },
    {
      "metadata": {
        "id": "fQVdJZF9W8YK",
        "colab_type": "code",
        "outputId": "9561f959-0b95-4614-988a-524254dbe91c",
        "colab": {
          "base_uri": "https://localhost:8080/",
          "height": 139
        }
      },
      "cell_type": "code",
      "source": [
        "# Import linear models\n",
        "from sklearn import linear_model\n",
        "from sklearn.metrics import mean_squared_error\n",
        "# Create lasso and ridge objects\n",
        "lasso = linear_model.Lasso()\n",
        "ridge = linear_model.Ridge()\n",
        "# Fit the models\n",
        "lasso.fit(X, Y)\n",
        "ridge.fit(X, Y)\n",
        "# Print scores, MSE, and coefficients\n",
        "print(\"lasso score:\", lasso.score(X, Y))\n",
        "print(\"ridge score:\",ridge.score(X, Y))\n",
        "print(\"lasso MSE:\", mean_squared_error(Y, lasso.predict(X)))\n",
        "print(\"ridge MSE:\", mean_squared_error(Y, ridge.predict(X)))\n",
        "\n"
      ],
      "execution_count": 0,
      "outputs": [
        {
          "output_type": "stream",
          "text": [
            "lasso score: 0.3671883380980532\n",
            "ridge score: 0.5669974653922331\n",
            "lasso MSE: 3411.443019544524\n",
            "ridge MSE: 2334.28611238463\n"
          ],
          "name": "stdout"
        },
        {
          "output_type": "stream",
          "text": [
            "/usr/local/lib/python3.6/dist-packages/sklearn/linear_model/ridge.py:125: LinAlgWarning: Ill-conditioned matrix (rcond=3.1582e-17): result may not be accurate.\n",
            "  overwrite_a=True).T\n"
          ],
          "name": "stderr"
        }
      ]
    },
    {
      "metadata": {
        "id": "L8mbVrGjk0cu",
        "colab_type": "code",
        "outputId": "11cdf779-520d-49d9-f445-94a5f5d9ee72",
        "colab": {
          "base_uri": "https://localhost:8080/",
          "height": 105
        }
      },
      "cell_type": "code",
      "source": [
        "from sklearn.ensemble import RandomForestRegressor\n",
        "\n",
        "regressor = RandomForestRegressor(n_estimators=20, random_state=0)  \n",
        "regressor.fit(X_train, y_train)  \n",
        "y_pred = regressor.predict(X_test)  \n",
        "\n",
        "from sklearn import metrics\n",
        "\n",
        "print('Mean Squared Error:', metrics.mean_squared_error(y_test, y_pred))  \n",
        "print('Root Mean Squared Error:', np.sqrt(metrics.mean_squared_error(y_test, y_pred)))  "
      ],
      "execution_count": 0,
      "outputs": [
        {
          "output_type": "stream",
          "text": [
            "/usr/local/lib/python3.6/dist-packages/ipykernel_launcher.py:4: DataConversionWarning: A column-vector y was passed when a 1d array was expected. Please change the shape of y to (n_samples,), for example using ravel().\n",
            "  after removing the cwd from sys.path.\n"
          ],
          "name": "stderr"
        },
        {
          "output_type": "stream",
          "text": [
            "Mean Squared Error: 681.7239980641592\n",
            "Root Mean Squared Error: 26.109844849484634\n"
          ],
          "name": "stdout"
        }
      ]
    },
    {
      "metadata": {
        "id": "208W5QsnOXEg",
        "colab_type": "code",
        "outputId": "87bf6934-6a28-4e1c-bd5d-76c1ac7d49b9",
        "colab": {
          "base_uri": "https://localhost:8080/",
          "height": 105
        }
      },
      "cell_type": "code",
      "source": [
        "regressor1 = RandomForestRegressor(n_estimators=2000, random_state=0)  \n",
        "regressor1.fit(X_train, y_train)  \n",
        "y_pred1 = regressor1.predict(X_test)  \n",
        "\n",
        "print('Mean Squared Error:', metrics.mean_squared_error(y_test, y_pred1))  \n",
        "print('Root Mean Squared Error:', np.sqrt(metrics.mean_squared_error(y_test, y_pred1)))  "
      ],
      "execution_count": 0,
      "outputs": [
        {
          "output_type": "stream",
          "text": [
            "/usr/local/lib/python3.6/dist-packages/ipykernel_launcher.py:2: DataConversionWarning: A column-vector y was passed when a 1d array was expected. Please change the shape of y to (n_samples,), for example using ravel().\n",
            "  \n"
          ],
          "name": "stderr"
        },
        {
          "output_type": "stream",
          "text": [
            "Mean Squared Error: 638.643409333896\n",
            "Root Mean Squared Error: 25.271395080879408\n"
          ],
          "name": "stdout"
        }
      ]
    },
    {
      "metadata": {
        "id": "ufRyacZTP9fT",
        "colab_type": "code",
        "outputId": "a0a0ca95-4406-45d8-ee2f-d3998a55d82e",
        "colab": {
          "base_uri": "https://localhost:8080/",
          "height": 105
        }
      },
      "cell_type": "code",
      "source": [
        "regressor2 = RandomForestRegressor(n_estimators=200, random_state=0)  \n",
        "regressor2.fit(X_train, y_train)  \n",
        "y_pred2 = regressor2.predict(X_test)  \n",
        "\n",
        "print('Mean Squared Error:', metrics.mean_squared_error(y_test, y_pred2))  \n",
        "print('Root Mean Squared Error:', np.sqrt(metrics.mean_squared_error(y_test, y_pred2)))  "
      ],
      "execution_count": 0,
      "outputs": [
        {
          "output_type": "stream",
          "text": [
            "/usr/local/lib/python3.6/dist-packages/ipykernel_launcher.py:2: DataConversionWarning: A column-vector y was passed when a 1d array was expected. Please change the shape of y to (n_samples,), for example using ravel().\n",
            "  \n"
          ],
          "name": "stderr"
        },
        {
          "output_type": "stream",
          "text": [
            "Mean Squared Error: 640.972792877963\n",
            "Root Mean Squared Error: 25.31744048828718\n"
          ],
          "name": "stdout"
        }
      ]
    }
  ]
}