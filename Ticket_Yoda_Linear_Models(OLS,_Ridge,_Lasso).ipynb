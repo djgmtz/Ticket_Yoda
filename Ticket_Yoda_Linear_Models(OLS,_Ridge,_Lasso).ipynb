{
  "nbformat": 4,
  "nbformat_minor": 0,
  "metadata": {
    "colab": {
      "name": "Ticket Yoda - Linear Models(OLS, Ridge, Lasso)",
      "version": "0.3.2",
      "provenance": [],
      "collapsed_sections": []
    },
    "kernelspec": {
      "name": "python3",
      "display_name": "Python 3"
    },
    "accelerator": "TPU"
  },
  "cells": [
    {
      "metadata": {
        "id": "f7rouLyw6ej5",
        "colab_type": "text"
      },
      "cell_type": "markdown",
      "source": [
        "#OLS Ridge and Lasso"
      ]
    },
    {
      "metadata": {
        "id": "IzyXPB1X33sZ",
        "colab_type": "code",
        "colab": {}
      },
      "cell_type": "code",
      "source": [
        "# Code to read csv file into Colaboratory:\n",
        "!pip install -U -q PyDrive\n",
        "from pydrive.auth import GoogleAuth\n",
        "from pydrive.drive import GoogleDrive\n",
        "from google.colab import auth\n",
        "from oauth2client.client import GoogleCredentials\n",
        "from google.colab import files\n",
        "import numpy as np\n",
        "from scipy import stats\n",
        "import seaborn as sns\n",
        "import pandas as pd\n",
        "import io\n",
        "# Authenticate and create the PyDrive client.\n",
        "auth.authenticate_user()\n",
        "gauth = GoogleAuth()\n",
        "gauth.credentials = GoogleCredentials.get_application_default()\n",
        "drive = GoogleDrive(gauth)"
      ],
      "execution_count": 0,
      "outputs": []
    },
    {
      "metadata": {
        "id": "GxhDai7k4L3P",
        "colab_type": "code",
        "colab": {}
      },
      "cell_type": "code",
      "source": [
        "id='1bcu2TSWXPFedsnmQV2BppNpnMU6YC6Qv' # The id File\n",
        "downloaded = drive.CreateFile({'id':id}) \n",
        "downloaded.GetContentFile('FINAL_MASTER.csv')  \n",
        "df = pd.read_csv('FINAL_MASTER.csv')\n"
      ],
      "execution_count": 0,
      "outputs": []
    },
    {
      "metadata": {
        "id": "tuwNIIHu51Mn",
        "colab_type": "code",
        "outputId": "a4c13e5a-abbd-4675-a78e-c66649bc34b3",
        "colab": {
          "base_uri": "https://localhost:8080/",
          "height": 423
        }
      },
      "cell_type": "code",
      "source": [
        "df.head()"
      ],
      "execution_count": 0,
      "outputs": [
        {
          "output_type": "execute_result",
          "data": {
            "text/html": [
              "<div>\n",
              "<style scoped>\n",
              "    .dataframe tbody tr th:only-of-type {\n",
              "        vertical-align: middle;\n",
              "    }\n",
              "\n",
              "    .dataframe tbody tr th {\n",
              "        vertical-align: top;\n",
              "    }\n",
              "\n",
              "    .dataframe thead th {\n",
              "        text-align: right;\n",
              "    }\n",
              "</style>\n",
              "<table border=\"1\" class=\"dataframe\">\n",
              "  <thead>\n",
              "    <tr style=\"text-align: right;\">\n",
              "      <th></th>\n",
              "      <th>artist</th>\n",
              "      <th>date</th>\n",
              "      <th>weekday</th>\n",
              "      <th>promoter</th>\n",
              "      <th>SG_venue</th>\n",
              "      <th>venue_city</th>\n",
              "      <th>venue_state</th>\n",
              "      <th>TM_max</th>\n",
              "      <th>SG_max_price</th>\n",
              "      <th>TM_min</th>\n",
              "      <th>...</th>\n",
              "      <th>daystoconcert</th>\n",
              "      <th>segment</th>\n",
              "      <th>genre</th>\n",
              "      <th>subGenre</th>\n",
              "      <th>Capture_date</th>\n",
              "      <th>SG_listing_count</th>\n",
              "      <th>SG_venue_score</th>\n",
              "      <th>max_pop</th>\n",
              "      <th>max_follow</th>\n",
              "      <th>SG_artists_score</th>\n",
              "    </tr>\n",
              "  </thead>\n",
              "  <tbody>\n",
              "    <tr>\n",
              "      <th>0</th>\n",
              "      <td>Lake Street Dive</td>\n",
              "      <td>1/15/2019</td>\n",
              "      <td>Tuesday</td>\n",
              "      <td>PROMOTED BY VENUE</td>\n",
              "      <td>Ponte Vedra Concert Hall</td>\n",
              "      <td>Ponte Vedra Beach</td>\n",
              "      <td>FL</td>\n",
              "      <td>34.5</td>\n",
              "      <td>36.0</td>\n",
              "      <td>34.5</td>\n",
              "      <td>...</td>\n",
              "      <td>0</td>\n",
              "      <td>Music</td>\n",
              "      <td>Rock</td>\n",
              "      <td>Alternative Rock</td>\n",
              "      <td>1/15/2019</td>\n",
              "      <td>3</td>\n",
              "      <td>0.466979</td>\n",
              "      <td>64</td>\n",
              "      <td>191086</td>\n",
              "      <td>0.56</td>\n",
              "    </tr>\n",
              "    <tr>\n",
              "      <th>1</th>\n",
              "      <td>Mineral</td>\n",
              "      <td>1/16/2019</td>\n",
              "      <td>Wednesday</td>\n",
              "      <td>LIVE NATION MUSIC</td>\n",
              "      <td>Theatre of Living Arts</td>\n",
              "      <td>Philadelphia</td>\n",
              "      <td>PA</td>\n",
              "      <td>25.0</td>\n",
              "      <td>109.0</td>\n",
              "      <td>25.0</td>\n",
              "      <td>...</td>\n",
              "      <td>1</td>\n",
              "      <td>Music</td>\n",
              "      <td>Rock</td>\n",
              "      <td>Alternative Rock</td>\n",
              "      <td>1/15/2019</td>\n",
              "      <td>35</td>\n",
              "      <td>0.503499</td>\n",
              "      <td>41</td>\n",
              "      <td>19707</td>\n",
              "      <td>0.39</td>\n",
              "    </tr>\n",
              "    <tr>\n",
              "      <th>2</th>\n",
              "      <td>Mineral</td>\n",
              "      <td>1/16/2019</td>\n",
              "      <td>Wednesday</td>\n",
              "      <td>LIVE NATION MUSIC</td>\n",
              "      <td>Theatre of Living Arts</td>\n",
              "      <td>Philadelphia</td>\n",
              "      <td>PA</td>\n",
              "      <td>25.0</td>\n",
              "      <td>68.0</td>\n",
              "      <td>25.0</td>\n",
              "      <td>...</td>\n",
              "      <td>0</td>\n",
              "      <td>Music</td>\n",
              "      <td>Rock</td>\n",
              "      <td>Alternative Rock</td>\n",
              "      <td>1/16/2019</td>\n",
              "      <td>5</td>\n",
              "      <td>0.503499</td>\n",
              "      <td>41</td>\n",
              "      <td>19746</td>\n",
              "      <td>0.39</td>\n",
              "    </tr>\n",
              "    <tr>\n",
              "      <th>3</th>\n",
              "      <td>Dylan Scott</td>\n",
              "      <td>1/17/2019</td>\n",
              "      <td>Thursday</td>\n",
              "      <td>LIVE NATION MUSIC</td>\n",
              "      <td>Gramercy Theatre</td>\n",
              "      <td>New York</td>\n",
              "      <td>NY</td>\n",
              "      <td>50.5</td>\n",
              "      <td>286.0</td>\n",
              "      <td>30.5</td>\n",
              "      <td>...</td>\n",
              "      <td>2</td>\n",
              "      <td>Music</td>\n",
              "      <td>Country</td>\n",
              "      <td>Country</td>\n",
              "      <td>1/15/2019</td>\n",
              "      <td>14</td>\n",
              "      <td>0.515187</td>\n",
              "      <td>66</td>\n",
              "      <td>372825</td>\n",
              "      <td>0.49</td>\n",
              "    </tr>\n",
              "    <tr>\n",
              "      <th>4</th>\n",
              "      <td>Vertical Horizon</td>\n",
              "      <td>1/17/2019</td>\n",
              "      <td>Thursday</td>\n",
              "      <td>PROMOTED BY VENUE</td>\n",
              "      <td>Highline Ballroom</td>\n",
              "      <td>New York</td>\n",
              "      <td>NY</td>\n",
              "      <td>75.0</td>\n",
              "      <td>217.0</td>\n",
              "      <td>35.0</td>\n",
              "      <td>...</td>\n",
              "      <td>2</td>\n",
              "      <td>Music</td>\n",
              "      <td>Rock</td>\n",
              "      <td>Alternative Rock</td>\n",
              "      <td>1/15/2019</td>\n",
              "      <td>10</td>\n",
              "      <td>0.506355</td>\n",
              "      <td>56</td>\n",
              "      <td>184769</td>\n",
              "      <td>0.42</td>\n",
              "    </tr>\n",
              "  </tbody>\n",
              "</table>\n",
              "<p>5 rows × 22 columns</p>\n",
              "</div>"
            ],
            "text/plain": [
              "             artist       date    weekday           promoter  \\\n",
              "0  Lake Street Dive  1/15/2019    Tuesday  PROMOTED BY VENUE   \n",
              "1           Mineral  1/16/2019  Wednesday  LIVE NATION MUSIC   \n",
              "2           Mineral  1/16/2019  Wednesday  LIVE NATION MUSIC   \n",
              "3       Dylan Scott  1/17/2019   Thursday  LIVE NATION MUSIC   \n",
              "4  Vertical Horizon  1/17/2019   Thursday  PROMOTED BY VENUE   \n",
              "\n",
              "                   SG_venue         venue_city venue_state  TM_max  \\\n",
              "0  Ponte Vedra Concert Hall  Ponte Vedra Beach          FL    34.5   \n",
              "1    Theatre of Living Arts       Philadelphia          PA    25.0   \n",
              "2    Theatre of Living Arts       Philadelphia          PA    25.0   \n",
              "3          Gramercy Theatre           New York          NY    50.5   \n",
              "4         Highline Ballroom           New York          NY    75.0   \n",
              "\n",
              "   SG_max_price  TM_min        ...         daystoconcert  segment    genre  \\\n",
              "0          36.0    34.5        ...                     0    Music     Rock   \n",
              "1         109.0    25.0        ...                     1    Music     Rock   \n",
              "2          68.0    25.0        ...                     0    Music     Rock   \n",
              "3         286.0    30.5        ...                     2    Music  Country   \n",
              "4         217.0    35.0        ...                     2    Music     Rock   \n",
              "\n",
              "           subGenre Capture_date SG_listing_count SG_venue_score  max_pop  \\\n",
              "0  Alternative Rock    1/15/2019                3       0.466979       64   \n",
              "1  Alternative Rock    1/15/2019               35       0.503499       41   \n",
              "2  Alternative Rock    1/16/2019                5       0.503499       41   \n",
              "3           Country    1/15/2019               14       0.515187       66   \n",
              "4  Alternative Rock    1/15/2019               10       0.506355       56   \n",
              "\n",
              "   max_follow  SG_artists_score  \n",
              "0      191086              0.56  \n",
              "1       19707              0.39  \n",
              "2       19746              0.39  \n",
              "3      372825              0.49  \n",
              "4      184769              0.42  \n",
              "\n",
              "[5 rows x 22 columns]"
            ]
          },
          "metadata": {
            "tags": []
          },
          "execution_count": 22
        }
      ]
    },
    {
      "metadata": {
        "id": "NeKQ4wK7muh7",
        "colab_type": "text"
      },
      "cell_type": "markdown",
      "source": [
        "#Data cleaning"
      ]
    },
    {
      "metadata": {
        "id": "AzfMV-GAjzZg",
        "colab_type": "code",
        "colab": {}
      },
      "cell_type": "code",
      "source": [
        "##Removing rows accordingly to our data cleaning process\n",
        "#Remove max popularity < 10\n",
        "#Remove max followers <10\n",
        "#Remove data points with average price > 400 (IQR 0.75 - 0.25 + Mean)\n",
        "#Drop any lines with NA, None\n",
        "#Remove venue score 0 and artist score 0\n",
        "\n",
        "df = df[df['SG_average_price'] > 0]\n",
        "\n",
        "df=df[df['SG_average_price'] <= 400]\n",
        "\n",
        "df=df[df['max_pop'] >=10]\n",
        "\n",
        "df=df[df['max_follow'] >=10]\n",
        "\n",
        "df=df[df['SG_venue_score'] >=0.1]\n",
        "\n",
        "df=df[df['SG_artists_score'] >=0.1]\n",
        "\n"
      ],
      "execution_count": 0,
      "outputs": []
    },
    {
      "metadata": {
        "id": "Joh3sRUVKhme",
        "colab_type": "code",
        "outputId": "b8652295-9e98-4bfe-ccce-59398170ea1b",
        "colab": {
          "base_uri": "https://localhost:8080/",
          "height": 408
        }
      },
      "cell_type": "code",
      "source": [
        "#drop NAs\n",
        "df.isna().sum()\n",
        "df= df.dropna()\n",
        "df.isna().sum()\n"
      ],
      "execution_count": 0,
      "outputs": [
        {
          "output_type": "execute_result",
          "data": {
            "text/plain": [
              "artist              0\n",
              "date                0\n",
              "weekday             0\n",
              "promoter            0\n",
              "SG_venue            0\n",
              "venue_city          0\n",
              "venue_state         0\n",
              "TM_max              0\n",
              "SG_max_price        0\n",
              "TM_min              0\n",
              "SG_min_price        0\n",
              "SG_average_price    0\n",
              "daystoconcert       0\n",
              "segment             0\n",
              "genre               0\n",
              "subGenre            0\n",
              "Capture_date        0\n",
              "SG_listing_count    0\n",
              "SG_venue_score      0\n",
              "max_pop             0\n",
              "max_follow          0\n",
              "SG_artists_score    0\n",
              "dtype: int64"
            ]
          },
          "metadata": {
            "tags": []
          },
          "execution_count": 24
        }
      ]
    },
    {
      "metadata": {
        "id": "Md8iacrFkp1j",
        "colab_type": "code",
        "outputId": "53e68650-7eff-4c30-cc06-3db03784dff8",
        "colab": {
          "base_uri": "https://localhost:8080/",
          "height": 34
        }
      },
      "cell_type": "code",
      "source": [
        "df.shape"
      ],
      "execution_count": 0,
      "outputs": [
        {
          "output_type": "execute_result",
          "data": {
            "text/plain": [
              "(11861, 22)"
            ]
          },
          "metadata": {
            "tags": []
          },
          "execution_count": 25
        }
      ]
    },
    {
      "metadata": {
        "id": "7ABZFaaa5FCG",
        "colab_type": "code",
        "colab": {}
      },
      "cell_type": "code",
      "source": [
        "#Change to numeric\n",
        "\n",
        "df[\"SG_artists_score\"] = pd.to_numeric(df[\"SG_artists_score\"])\n",
        "df[\"SG_venue_score\"] = pd.to_numeric(df[\"SG_venue_score\"])\n",
        "df[\"max_pop\"] = pd.to_numeric(df[\"max_pop\"])\n",
        "df[\"max_follow\"] = pd.to_numeric(df[\"max_follow\"])\n",
        "df[\"daystoconcert\"] = pd.to_numeric(df[\"daystoconcert\"])\n",
        "df[\"SG_average_price\"] = pd.to_numeric(df[\"SG_average_price\"])\n",
        "\n",
        "#Change text object to String\n",
        "\n",
        "df[[\"promoter\", \"genre\",\"subGenre\",\"venue_city\",\"venue_state\",\"SG_venue\",\"weekday\"]] = df[[\"promoter\", \"genre\",\"subGenre\",\"venue_city\",\"venue_state\", \"SG_venue\",\"weekday\"]].astype(str) \n",
        "\n",
        "\n",
        "#Coerce string to categories\n",
        "df[\"promoter\"] = df[\"promoter\"].astype('category')\n",
        "df[\"genre\"] = df[\"genre\"].astype('category')\n",
        "df[\"subGenre\"] = df[\"subGenre\"].astype('category')\n",
        "df[\"venue_city\"] = df[\"venue_city\"].astype('category')\n",
        "df[\"venue_state\"] = df[\"venue_state\"].astype('category')\n",
        "df[\"weekday\"] = df[\"weekday\"].astype('category')\n",
        "df[\"SG_venue\"] = df[\"SG_venue\"].astype('category')\n"
      ],
      "execution_count": 0,
      "outputs": []
    },
    {
      "metadata": {
        "id": "0yGBxvT55KaQ",
        "colab_type": "code",
        "outputId": "9ab73ad2-d7a7-48ef-de38-a5973ad5194d",
        "colab": {
          "base_uri": "https://localhost:8080/",
          "height": 408
        }
      },
      "cell_type": "code",
      "source": [
        "df.dtypes"
      ],
      "execution_count": 0,
      "outputs": [
        {
          "output_type": "execute_result",
          "data": {
            "text/plain": [
              "artist                object\n",
              "date                  object\n",
              "weekday             category\n",
              "promoter            category\n",
              "SG_venue            category\n",
              "venue_city          category\n",
              "venue_state         category\n",
              "TM_max               float64\n",
              "SG_max_price         float64\n",
              "TM_min               float64\n",
              "SG_min_price         float64\n",
              "SG_average_price     float64\n",
              "daystoconcert          int64\n",
              "segment               object\n",
              "genre               category\n",
              "subGenre            category\n",
              "Capture_date          object\n",
              "SG_listing_count       int64\n",
              "SG_venue_score       float64\n",
              "max_pop                int64\n",
              "max_follow             int64\n",
              "SG_artists_score     float64\n",
              "dtype: object"
            ]
          },
          "metadata": {
            "tags": []
          },
          "execution_count": 27
        }
      ]
    },
    {
      "metadata": {
        "id": "gJBEfGhWW2dG",
        "colab_type": "code",
        "colab": {}
      },
      "cell_type": "code",
      "source": [
        "#from google.colab import files\n",
        "#df.to_csv('df.csv')\n",
        "#files.download('df.csv')"
      ],
      "execution_count": 0,
      "outputs": []
    },
    {
      "metadata": {
        "id": "bi6n10-fppzT",
        "colab_type": "text"
      },
      "cell_type": "markdown",
      "source": [
        "end of basic data cleaning\n",
        "\n",
        "---\n",
        "\n"
      ]
    },
    {
      "metadata": {
        "id": "sdTyd3PKm860",
        "colab_type": "text"
      },
      "cell_type": "markdown",
      "source": [
        "#OLS Model"
      ]
    },
    {
      "metadata": {
        "id": "4i3NSccztDx3",
        "colab_type": "code",
        "colab": {}
      },
      "cell_type": "code",
      "source": [
        "#import libraries for modeling\n",
        "from pandas.plotting import scatter_matrix\n",
        "import matplotlib.pyplot as plt\n",
        "from sklearn import model_selection\n",
        "from sklearn.metrics import classification_report\n",
        "from sklearn.metrics import confusion_matrix\n",
        "from sklearn.metrics import accuracy_score\n",
        "from sklearn.linear_model import LogisticRegression\n",
        "from sklearn.tree import DecisionTreeClassifier\n",
        "from sklearn.neighbors import KNeighborsClassifier\n",
        "from sklearn.model_selection import train_test_split\n",
        "from sklearn.discriminant_analysis import LinearDiscriminantAnalysis\n",
        "from sklearn.naive_bayes import GaussianNB\n",
        "from sklearn.svm import SVC\n"
      ],
      "execution_count": 0,
      "outputs": []
    },
    {
      "metadata": {
        "id": "QCocMuPA2k-3",
        "colab_type": "code",
        "colab": {}
      },
      "cell_type": "code",
      "source": [
        "#Removing target column from ORIGINAL DF\n",
        "\n",
        "##Data\n",
        "#Output is Type pandas df\n",
        "X = df[['SG_artists_score',\n",
        "'venue_city',\n",
        "'SG_venue_score',\n",
        "'venue_state',\n",
        "'max_pop',\n",
        "'max_follow',\n",
        "'daystoconcert',\n",
        "        \"genre\",\n",
        "       \"weekday\"]]\n",
        "\n",
        "#Target\n",
        "#Output is Type pandas df\n",
        "Y = df[['SG_average_price']].astype(int)\n",
        "\n"
      ],
      "execution_count": 0,
      "outputs": []
    },
    {
      "metadata": {
        "id": "IoA4qMwwZv5t",
        "colab_type": "code",
        "outputId": "6649a52b-33cd-4e66-cec6-b450fd059dd5",
        "colab": {
          "base_uri": "https://localhost:8080/",
          "height": 204
        }
      },
      "cell_type": "code",
      "source": [
        "X.head()"
      ],
      "execution_count": 0,
      "outputs": [
        {
          "output_type": "execute_result",
          "data": {
            "text/html": [
              "<div>\n",
              "<style scoped>\n",
              "    .dataframe tbody tr th:only-of-type {\n",
              "        vertical-align: middle;\n",
              "    }\n",
              "\n",
              "    .dataframe tbody tr th {\n",
              "        vertical-align: top;\n",
              "    }\n",
              "\n",
              "    .dataframe thead th {\n",
              "        text-align: right;\n",
              "    }\n",
              "</style>\n",
              "<table border=\"1\" class=\"dataframe\">\n",
              "  <thead>\n",
              "    <tr style=\"text-align: right;\">\n",
              "      <th></th>\n",
              "      <th>SG_artists_score</th>\n",
              "      <th>venue_city</th>\n",
              "      <th>SG_venue_score</th>\n",
              "      <th>venue_state</th>\n",
              "      <th>max_pop</th>\n",
              "      <th>max_follow</th>\n",
              "      <th>daystoconcert</th>\n",
              "      <th>genre</th>\n",
              "      <th>weekday</th>\n",
              "    </tr>\n",
              "  </thead>\n",
              "  <tbody>\n",
              "    <tr>\n",
              "      <th>0</th>\n",
              "      <td>0.56</td>\n",
              "      <td>Ponte Vedra Beach</td>\n",
              "      <td>0.466979</td>\n",
              "      <td>FL</td>\n",
              "      <td>64</td>\n",
              "      <td>191086</td>\n",
              "      <td>0</td>\n",
              "      <td>Rock</td>\n",
              "      <td>Tuesday</td>\n",
              "    </tr>\n",
              "    <tr>\n",
              "      <th>1</th>\n",
              "      <td>0.39</td>\n",
              "      <td>Philadelphia</td>\n",
              "      <td>0.503499</td>\n",
              "      <td>PA</td>\n",
              "      <td>41</td>\n",
              "      <td>19707</td>\n",
              "      <td>1</td>\n",
              "      <td>Rock</td>\n",
              "      <td>Wednesday</td>\n",
              "    </tr>\n",
              "    <tr>\n",
              "      <th>2</th>\n",
              "      <td>0.39</td>\n",
              "      <td>Philadelphia</td>\n",
              "      <td>0.503499</td>\n",
              "      <td>PA</td>\n",
              "      <td>41</td>\n",
              "      <td>19746</td>\n",
              "      <td>0</td>\n",
              "      <td>Rock</td>\n",
              "      <td>Wednesday</td>\n",
              "    </tr>\n",
              "    <tr>\n",
              "      <th>3</th>\n",
              "      <td>0.49</td>\n",
              "      <td>New York</td>\n",
              "      <td>0.515187</td>\n",
              "      <td>NY</td>\n",
              "      <td>66</td>\n",
              "      <td>372825</td>\n",
              "      <td>2</td>\n",
              "      <td>Country</td>\n",
              "      <td>Thursday</td>\n",
              "    </tr>\n",
              "    <tr>\n",
              "      <th>4</th>\n",
              "      <td>0.42</td>\n",
              "      <td>New York</td>\n",
              "      <td>0.506355</td>\n",
              "      <td>NY</td>\n",
              "      <td>56</td>\n",
              "      <td>184769</td>\n",
              "      <td>2</td>\n",
              "      <td>Rock</td>\n",
              "      <td>Thursday</td>\n",
              "    </tr>\n",
              "  </tbody>\n",
              "</table>\n",
              "</div>"
            ],
            "text/plain": [
              "   SG_artists_score         venue_city  SG_venue_score venue_state  max_pop  \\\n",
              "0              0.56  Ponte Vedra Beach        0.466979          FL       64   \n",
              "1              0.39       Philadelphia        0.503499          PA       41   \n",
              "2              0.39       Philadelphia        0.503499          PA       41   \n",
              "3              0.49           New York        0.515187          NY       66   \n",
              "4              0.42           New York        0.506355          NY       56   \n",
              "\n",
              "   max_follow  daystoconcert    genre    weekday  \n",
              "0      191086              0     Rock    Tuesday  \n",
              "1       19707              1     Rock  Wednesday  \n",
              "2       19746              0     Rock  Wednesday  \n",
              "3      372825              2  Country   Thursday  \n",
              "4      184769              2     Rock   Thursday  "
            ]
          },
          "metadata": {
            "tags": []
          },
          "execution_count": 31
        }
      ]
    },
    {
      "metadata": {
        "id": "g5MvEPaur9tu",
        "colab_type": "code",
        "colab": {}
      },
      "cell_type": "code",
      "source": [
        "#One Hot! \n",
        "\n",
        "\n",
        "dummies1 = pd.get_dummies(df['promoter'])\n",
        "X= pd.concat([X,dummies1],axis=1)\n",
        "\n",
        "dummies2 = pd.get_dummies(df['genre'])\n",
        "X= pd.concat([X,dummies2],axis=1)\n",
        "\n",
        "dummies3 = pd.get_dummies(df['subGenre'])\n",
        "X= pd.concat([X,dummies3],axis=1)\n",
        "\n",
        "dummies4 = pd.get_dummies(df['venue_city'])\n",
        "X= pd.concat([X,dummies4],axis=1)\n",
        "\n",
        "dummies5 = pd.get_dummies(df['venue_state'])\n",
        "X= pd.concat([X,dummies5],axis=1)\n",
        "\n",
        "dummies6 = pd.get_dummies(df['weekday'])\n",
        "X= pd.concat([X,dummies6],axis=1)\n",
        "\n"
      ],
      "execution_count": 0,
      "outputs": []
    },
    {
      "metadata": {
        "id": "nCCVpXLyBpJW",
        "colab_type": "code",
        "colab": {}
      },
      "cell_type": "code",
      "source": [
        "#DROP COLUMNS THAT WE USE GET DUMMIES ON\n",
        "\n",
        "X.drop(columns=['genre','venue_city','venue_state','weekday' ], inplace=True)\n"
      ],
      "execution_count": 0,
      "outputs": []
    },
    {
      "metadata": {
        "id": "xilbA_tLeVLC",
        "colab_type": "code",
        "outputId": "b08e357a-3203-467f-efd0-993337859f39",
        "colab": {
          "base_uri": "https://localhost:8080/",
          "height": 321
        }
      },
      "cell_type": "code",
      "source": [
        "#Check if columns were removed\n",
        "X.head()"
      ],
      "execution_count": 0,
      "outputs": [
        {
          "output_type": "execute_result",
          "data": {
            "text/html": [
              "<div>\n",
              "<style scoped>\n",
              "    .dataframe tbody tr th:only-of-type {\n",
              "        vertical-align: middle;\n",
              "    }\n",
              "\n",
              "    .dataframe tbody tr th {\n",
              "        vertical-align: top;\n",
              "    }\n",
              "\n",
              "    .dataframe thead th {\n",
              "        text-align: right;\n",
              "    }\n",
              "</style>\n",
              "<table border=\"1\" class=\"dataframe\">\n",
              "  <thead>\n",
              "    <tr style=\"text-align: right;\">\n",
              "      <th></th>\n",
              "      <th>SG_artists_score</th>\n",
              "      <th>SG_venue_score</th>\n",
              "      <th>max_pop</th>\n",
              "      <th>max_follow</th>\n",
              "      <th>daystoconcert</th>\n",
              "      <th>191 TOURING</th>\n",
              "      <th>AEG - TICKETING</th>\n",
              "      <th>AEG LIVE</th>\n",
              "      <th>AL WASH</th>\n",
              "      <th>ANDREW HEWITT &amp; BILL SILVA PRESENTS</th>\n",
              "      <th>...</th>\n",
              "      <th>PA</th>\n",
              "      <th>TN</th>\n",
              "      <th>TX</th>\n",
              "      <th>Friday</th>\n",
              "      <th>Monday</th>\n",
              "      <th>Saturday</th>\n",
              "      <th>Sunday</th>\n",
              "      <th>Thursday</th>\n",
              "      <th>Tuesday</th>\n",
              "      <th>Wednesday</th>\n",
              "    </tr>\n",
              "  </thead>\n",
              "  <tbody>\n",
              "    <tr>\n",
              "      <th>0</th>\n",
              "      <td>0.56</td>\n",
              "      <td>0.466979</td>\n",
              "      <td>64</td>\n",
              "      <td>191086</td>\n",
              "      <td>0</td>\n",
              "      <td>0</td>\n",
              "      <td>0</td>\n",
              "      <td>0</td>\n",
              "      <td>0</td>\n",
              "      <td>0</td>\n",
              "      <td>...</td>\n",
              "      <td>0</td>\n",
              "      <td>0</td>\n",
              "      <td>0</td>\n",
              "      <td>0</td>\n",
              "      <td>0</td>\n",
              "      <td>0</td>\n",
              "      <td>0</td>\n",
              "      <td>0</td>\n",
              "      <td>1</td>\n",
              "      <td>0</td>\n",
              "    </tr>\n",
              "    <tr>\n",
              "      <th>1</th>\n",
              "      <td>0.39</td>\n",
              "      <td>0.503499</td>\n",
              "      <td>41</td>\n",
              "      <td>19707</td>\n",
              "      <td>1</td>\n",
              "      <td>0</td>\n",
              "      <td>0</td>\n",
              "      <td>0</td>\n",
              "      <td>0</td>\n",
              "      <td>0</td>\n",
              "      <td>...</td>\n",
              "      <td>1</td>\n",
              "      <td>0</td>\n",
              "      <td>0</td>\n",
              "      <td>0</td>\n",
              "      <td>0</td>\n",
              "      <td>0</td>\n",
              "      <td>0</td>\n",
              "      <td>0</td>\n",
              "      <td>0</td>\n",
              "      <td>1</td>\n",
              "    </tr>\n",
              "    <tr>\n",
              "      <th>2</th>\n",
              "      <td>0.39</td>\n",
              "      <td>0.503499</td>\n",
              "      <td>41</td>\n",
              "      <td>19746</td>\n",
              "      <td>0</td>\n",
              "      <td>0</td>\n",
              "      <td>0</td>\n",
              "      <td>0</td>\n",
              "      <td>0</td>\n",
              "      <td>0</td>\n",
              "      <td>...</td>\n",
              "      <td>1</td>\n",
              "      <td>0</td>\n",
              "      <td>0</td>\n",
              "      <td>0</td>\n",
              "      <td>0</td>\n",
              "      <td>0</td>\n",
              "      <td>0</td>\n",
              "      <td>0</td>\n",
              "      <td>0</td>\n",
              "      <td>1</td>\n",
              "    </tr>\n",
              "    <tr>\n",
              "      <th>3</th>\n",
              "      <td>0.49</td>\n",
              "      <td>0.515187</td>\n",
              "      <td>66</td>\n",
              "      <td>372825</td>\n",
              "      <td>2</td>\n",
              "      <td>0</td>\n",
              "      <td>0</td>\n",
              "      <td>0</td>\n",
              "      <td>0</td>\n",
              "      <td>0</td>\n",
              "      <td>...</td>\n",
              "      <td>0</td>\n",
              "      <td>0</td>\n",
              "      <td>0</td>\n",
              "      <td>0</td>\n",
              "      <td>0</td>\n",
              "      <td>0</td>\n",
              "      <td>0</td>\n",
              "      <td>1</td>\n",
              "      <td>0</td>\n",
              "      <td>0</td>\n",
              "    </tr>\n",
              "    <tr>\n",
              "      <th>4</th>\n",
              "      <td>0.42</td>\n",
              "      <td>0.506355</td>\n",
              "      <td>56</td>\n",
              "      <td>184769</td>\n",
              "      <td>2</td>\n",
              "      <td>0</td>\n",
              "      <td>0</td>\n",
              "      <td>0</td>\n",
              "      <td>0</td>\n",
              "      <td>0</td>\n",
              "      <td>...</td>\n",
              "      <td>0</td>\n",
              "      <td>0</td>\n",
              "      <td>0</td>\n",
              "      <td>0</td>\n",
              "      <td>0</td>\n",
              "      <td>0</td>\n",
              "      <td>0</td>\n",
              "      <td>1</td>\n",
              "      <td>0</td>\n",
              "      <td>0</td>\n",
              "    </tr>\n",
              "  </tbody>\n",
              "</table>\n",
              "<p>5 rows × 230 columns</p>\n",
              "</div>"
            ],
            "text/plain": [
              "   SG_artists_score  SG_venue_score  max_pop  max_follow  daystoconcert  \\\n",
              "0              0.56        0.466979       64      191086              0   \n",
              "1              0.39        0.503499       41       19707              1   \n",
              "2              0.39        0.503499       41       19746              0   \n",
              "3              0.49        0.515187       66      372825              2   \n",
              "4              0.42        0.506355       56      184769              2   \n",
              "\n",
              "   191 TOURING  AEG - TICKETING  AEG LIVE  AL WASH  \\\n",
              "0            0                0         0        0   \n",
              "1            0                0         0        0   \n",
              "2            0                0         0        0   \n",
              "3            0                0         0        0   \n",
              "4            0                0         0        0   \n",
              "\n",
              "   ANDREW HEWITT & BILL SILVA PRESENTS    ...      PA  TN  TX  Friday  Monday  \\\n",
              "0                                    0    ...       0   0   0       0       0   \n",
              "1                                    0    ...       1   0   0       0       0   \n",
              "2                                    0    ...       1   0   0       0       0   \n",
              "3                                    0    ...       0   0   0       0       0   \n",
              "4                                    0    ...       0   0   0       0       0   \n",
              "\n",
              "   Saturday  Sunday  Thursday  Tuesday  Wednesday  \n",
              "0         0       0         0        1          0  \n",
              "1         0       0         0        0          1  \n",
              "2         0       0         0        0          1  \n",
              "3         0       0         1        0          0  \n",
              "4         0       0         1        0          0  \n",
              "\n",
              "[5 rows x 230 columns]"
            ]
          },
          "metadata": {
            "tags": []
          },
          "execution_count": 35
        }
      ]
    },
    {
      "metadata": {
        "id": "yAsnuPuKbEyY",
        "colab_type": "text"
      },
      "cell_type": "markdown",
      "source": [
        "## Spliting data into test and train\n"
      ]
    },
    {
      "metadata": {
        "id": "m5jtLhEW5zZ4",
        "colab_type": "code",
        "colab": {}
      },
      "cell_type": "code",
      "source": [
        "##Import function for splitting arrays or matrices into random train and test subsets\n",
        "from sklearn.model_selection import train_test_split\n",
        "\n",
        "# Split \n",
        "X_train, X_test, y_train, y_test = train_test_split(X, Y, test_size=.2,random_state=1)"
      ],
      "execution_count": 0,
      "outputs": []
    },
    {
      "metadata": {
        "id": "DCnlATU-6Sli",
        "colab_type": "code",
        "outputId": "072e05e1-08de-4091-b999-fa840411d991",
        "colab": {
          "base_uri": "https://localhost:8080/",
          "height": 119
        }
      },
      "cell_type": "code",
      "source": [
        "print (\"X.shape:\", X.shape)\n",
        "print (\"Y.shape:\", Y.shape)\n",
        "print (\"X_train.shape:\", X_train.shape)\n",
        "print (\"X_test.shape:\", X_test.shape)\n",
        "print (\"y_train.shape:\", y_train.shape)\n",
        "print (\"y_test.shape:\", y_test.shape)"
      ],
      "execution_count": 0,
      "outputs": [
        {
          "output_type": "stream",
          "text": [
            "X.shape: (11861, 230)\n",
            "Y.shape: (11861, 1)\n",
            "X_train.shape: (9488, 230)\n",
            "X_test.shape: (2373, 230)\n",
            "y_train.shape: (9488, 1)\n",
            "y_test.shape: (2373, 1)\n"
          ],
          "name": "stdout"
        }
      ]
    },
    {
      "metadata": {
        "id": "wrNDLQGkAKg2",
        "colab_type": "text"
      },
      "cell_type": "markdown",
      "source": [
        "##Fitting, training and predicting models."
      ]
    },
    {
      "metadata": {
        "id": "37Kwa7bugOcq",
        "colab_type": "code",
        "colab": {}
      },
      "cell_type": "code",
      "source": [
        "from sklearn.linear_model import LinearRegression\n",
        "from sklearn import linear_model\n",
        "from sklearn.metrics import mean_squared_error, r2_score\n",
        "\n",
        "# Create linear regression object\n",
        "regr = linear_model.LinearRegression()\n",
        "\n",
        "# Train the model using the training sets\n",
        "regr.fit(X_train, y_train)\n",
        "\n",
        "# Make predictions using the testing set\n",
        "y_pred = regr.predict(X_test)\n"
      ],
      "execution_count": 0,
      "outputs": []
    },
    {
      "metadata": {
        "id": "qBtwHT_dg3mH",
        "colab_type": "code",
        "outputId": "55259b50-1ba5-44c3-c92d-21304161dc43",
        "colab": {
          "base_uri": "https://localhost:8080/",
          "height": 51
        }
      },
      "cell_type": "code",
      "source": [
        "# The coefficients\n",
        "#print('Coefficients: \\n', regr.coef_)\n",
        "# The mean squared error\n",
        "print(\"Mean squared error: %.2f\"\n",
        "      % mean_squared_error(y_test, y_pred))\n",
        "# Explained variance score: 1 is perfect prediction\n",
        "print('Variance score: %.2f' % r2_score(y_test, y_pred))"
      ],
      "execution_count": 0,
      "outputs": [
        {
          "output_type": "stream",
          "text": [
            "Mean squared error: 2599.57\n",
            "Variance score: 0.53\n"
          ],
          "name": "stdout"
        }
      ]
    },
    {
      "metadata": {
        "id": "o14LzLJJ9aH4",
        "colab_type": "code",
        "outputId": "32aa1038-a17e-4462-b228-eec46558ba0b",
        "colab": {
          "base_uri": "https://localhost:8080/",
          "height": 34
        }
      },
      "cell_type": "code",
      "source": [
        "regr.intercept_"
      ],
      "execution_count": 0,
      "outputs": [
        {
          "output_type": "execute_result",
          "data": {
            "text/plain": [
              "array([-45.01561489])"
            ]
          },
          "metadata": {
            "tags": []
          },
          "execution_count": 40
        }
      ]
    },
    {
      "metadata": {
        "id": "tCwMGe1D90JK",
        "colab_type": "code",
        "outputId": "c208a068-2a72-460e-ad25-43f9c3887104",
        "colab": {
          "base_uri": "https://localhost:8080/",
          "height": 4423
        }
      },
      "cell_type": "code",
      "source": [
        "#Getting P-value\n",
        "import statsmodels.api as sm\n",
        "from scipy import stats\n",
        "\n",
        "X2 = sm.add_constant(X)\n",
        "est = sm.OLS(Y, X2)\n",
        "est2 = est.fit()\n",
        "print(est2.summary())"
      ],
      "execution_count": 0,
      "outputs": [
        {
          "output_type": "stream",
          "text": [
            "/usr/local/lib/python3.6/dist-packages/statsmodels/compat/pandas.py:56: FutureWarning: The pandas.core.datetools module is deprecated and will be removed in a future version. Please use the pandas.tseries module instead.\n",
            "  from pandas.core import datetools\n"
          ],
          "name": "stderr"
        },
        {
          "output_type": "stream",
          "text": [
            "                            OLS Regression Results                            \n",
            "==============================================================================\n",
            "Dep. Variable:       SG_average_price   R-squared:                       0.568\n",
            "Model:                            OLS   Adj. R-squared:                  0.561\n",
            "Method:                 Least Squares   F-statistic:                     79.00\n",
            "Date:                Thu, 18 Apr 2019   Prob (F-statistic):               0.00\n",
            "Time:                        21:59:29   Log-Likelihood:                -62813.\n",
            "No. Observations:               11861   AIC:                         1.260e+05\n",
            "Df Residuals:                   11666   BIC:                         1.275e+05\n",
            "Df Model:                         194                                         \n",
            "Covariance Type:            nonrobust                                         \n",
            "=========================================================================================================\n",
            "                                            coef    std err          t      P>|t|      [0.025      0.975]\n",
            "---------------------------------------------------------------------------------------------------------\n",
            "const                                   -30.2018      5.668     -5.329      0.000     -41.312     -19.092\n",
            "SG_artists_score                        231.9120      9.908     23.407      0.000     212.491     251.333\n",
            "SG_venue_score                          150.5767     10.019     15.029      0.000     130.937     170.216\n",
            "max_pop                                   0.3821      0.049      7.833      0.000       0.286       0.478\n",
            "max_follow                             5.269e-07   6.29e-07      0.837      0.402   -7.07e-07    1.76e-06\n",
            "daystoconcert                             0.1377      0.016      8.528      0.000       0.106       0.169\n",
            "191 TOURING                               1.7049     66.997      0.025      0.980    -129.620     133.029\n",
            "AEG - TICKETING                         152.3511     27.803      5.480      0.000      97.853     206.849\n",
            "AEG LIVE                                 -2.3056      7.226     -0.319      0.750     -16.469      11.858\n",
            "AL WASH                                   8.7823     49.330      0.178      0.859     -87.912     105.477\n",
            "ANDREW HEWITT & BILL SILVA PRESENTS      28.7848     14.926      1.929      0.054      -0.472      58.042\n",
            "ANOTHER PLANET                          -45.6252      6.730     -6.780      0.000     -58.817     -32.434\n",
            "ARTS CENTER ENTERPRISES                  -3.7683     20.599     -0.183      0.855     -44.146      36.609\n",
            "ARTS SAN ANTONIO                          0.9931     28.249      0.035      0.972     -54.380      56.366\n",
            "BRE PRESENTS                            -24.9186      7.694     -3.239      0.001     -40.001      -9.837\n",
            "BROADWAY IN CHICAGO                     100.9816     16.061      6.288      0.000      69.500     132.463\n",
            "CARVER CULTURAL CENTER                  -16.4801     17.383     -0.948      0.343     -50.555      17.594\n",
            "COLUMBUS ASSOC. FOR PERF.ARTS           -79.8291      9.010     -8.860      0.000     -97.490     -62.169\n",
            "COMEDY CONNECTION                       -16.4352      8.124     -2.023      0.043     -32.359      -0.511\n",
            "COMMUNITY ARENA MANAGEMENT               30.6912     28.482      1.078      0.281     -25.137      86.520\n",
            "CROSSROADS PRESENTS                     -90.8210     16.763     -5.418      0.000    -123.679     -57.963\n",
            "DEL MAR (IN HOUSE)                      -11.9779      8.310     -1.441      0.149     -28.266       4.310\n",
            "FRANK PRODUCTIONS                       -57.1102     58.025     -0.984      0.325    -170.848      56.628\n",
            "GOLDENVOICE (AEG)                       -13.2175     10.262     -1.288      0.198     -33.332       6.897\n",
            "HARD ROCK INTERNATIONAL                  52.6953     16.148      3.263      0.001      21.042      84.349\n",
            "HOUSE OF BLUES CONCERTS (HOB)           -26.0476      5.639     -4.619      0.000     -37.101     -14.995\n",
            "LIVE NATION - NO LN CONCERTS BRANDING    67.5298      8.618      7.836      0.000      50.637      84.423\n",
            "LIVE NATION GLOBAL TOURING                9.2706     19.900      0.466      0.641     -29.737      48.278\n",
            "LIVE NATION MUSIC                       -15.6556      4.691     -3.337      0.001     -24.851      -6.460\n",
            "NEDERLANDER CONCERTS                     15.8268      8.459      1.871      0.061      -0.754      32.407\n",
            "NEDERLANDER PRODUCTIONS                   7.4130     12.594      0.589      0.556     -17.273      32.099\n",
            "NO CLUBS                                 30.1875     12.709      2.375      0.018       5.276      55.099\n",
            "NORTH AMERICAN ENTERTAINMENT GROUP       17.5255     28.755      0.609      0.542     -38.839      73.890\n",
            "None                                     14.4326     34.506      0.418      0.676     -53.206      82.071\n",
            "OUTBACK CONCERTS                        -19.4878     34.405     -0.566      0.571     -86.927      47.952\n",
            "POLICE PRODUCTIONS                      -51.6260     31.434     -1.642      0.101    -113.241       9.989\n",
            "PROMO WEST                              -57.4690      8.092     -7.102      0.000     -73.331     -41.607\n",
            "PROMOTED BY VENUE                        -1.0322      4.640     -0.222      0.824     -10.127       8.063\n",
            "PROMOTER NOT DEFINED                    -14.8739     34.032     -0.437      0.662     -81.582      51.834\n",
            "STAN LEVINSTONE PRESENTS                 -9.8262     11.033     -0.891      0.373     -31.453      11.800\n",
            "VENUWORKS CORPORATE                     -10.8649     12.567     -0.865      0.387     -35.499      13.769\n",
            "Ballads/Romantic                         23.2734      4.368      5.328      0.000      14.711      31.836\n",
            "Blues                                     8.1495      2.264      3.600      0.000       3.712      12.587\n",
            "Classical                                17.0610      3.476      4.908      0.000      10.248      23.874\n",
            "Comedy                                   19.9712     11.716      1.705      0.088      -2.993      42.936\n",
            "Country                                 -11.9257      1.881     -6.341      0.000     -15.612      -8.239\n",
            "Dance/Electronic                         -3.2150      1.337     -2.404      0.016      -5.837      -0.593\n",
            "Folk                                     -9.7548      2.086     -4.676      0.000     -13.844      -5.666\n",
            "Hip-Hop/Rap                             -22.2081      7.037     -3.156      0.002     -36.002      -8.415\n",
            "Jazz                                      4.4421      1.599      2.779      0.005       1.308       7.576\n",
            "Metal                                     0.8549      1.299      0.658      0.510      -1.691       3.401\n",
            "New Age                                 -23.1977      3.736     -6.209      0.000     -30.521     -15.874\n",
            "Other                                    -8.5694      3.362     -2.549      0.011     -15.160      -1.979\n",
            "Pop                                      -9.5085      3.651     -2.605      0.009     -16.665      -2.352\n",
            "R&B                                      -4.8732      3.443     -1.416      0.157     -11.621       1.875\n",
            "Reggae                                   -6.4410      2.734     -2.356      0.018     -11.799      -1.083\n",
            "Religious                               -17.1494      1.920     -8.931      0.000     -20.914     -13.385\n",
            "Rock                                    -10.8105      2.488     -4.346      0.000     -15.686      -5.935\n",
            "Undefined                                -9.2433      2.232     -4.141      0.000     -13.619      -4.868\n",
            "World                                    32.9427      2.821     11.678      0.000      27.413      38.472\n",
            "Adult Contemporary                       -5.7765      4.681     -1.234      0.217     -14.952       3.399\n",
            "Alternative Rock                         -6.6869      2.775     -2.410      0.016     -12.126      -1.247\n",
            "Ballads/Romantic                         23.2734      4.368      5.328      0.000      14.711      31.836\n",
            "Bluegrass                                -2.7481      3.041     -0.904      0.366      -8.708       3.212\n",
            "Blues                                     8.1495      2.264      3.600      0.000       3.712      12.587\n",
            "Classical/Vocal                          17.0610      3.476      4.908      0.000      10.248      23.874\n",
            "Club Dance                               -3.2150      1.337     -2.404      0.016      -5.837      -0.593\n",
            "Comedy                                   19.9712     11.716      1.705      0.088      -2.993      42.936\n",
            "Country                                  -9.1776      2.100     -4.371      0.000     -13.293      -5.062\n",
            "Folk                                     -9.7548      2.086     -4.676      0.000     -13.844      -5.666\n",
            "French Rap                               -7.7282      7.690     -1.005      0.315     -22.802       7.345\n",
            "Funk                                    -11.9743      9.852     -1.215      0.224     -31.286       7.337\n",
            "Gospel                                  -17.1494      1.920     -8.931      0.000     -20.914     -13.385\n",
            "Heavy Metal                               0.8549      1.299      0.658      0.510      -1.691       3.401\n",
            "Jazz                                      4.4421      1.599      2.779      0.005       1.308       7.576\n",
            "Latin                                     0.4862      3.140      0.155      0.877      -5.668       6.641\n",
            "New Age                                 -23.1977      3.736     -6.209      0.000     -30.521     -15.874\n",
            "Oldies & Classics                       -10.7390      3.464     -3.100      0.002     -17.530      -3.948\n",
            "Other                                    -8.5694      3.362     -2.549      0.011     -15.160      -1.979\n",
            "Pop                                       7.4851      2.413      3.102      0.002       2.755      12.215\n",
            "Punk                                     -4.6017     10.607     -0.434      0.664     -25.393      16.190\n",
            "R&B                                      18.0241      3.927      4.590      0.000      10.327      25.721\n",
            "Reggae                                   -6.4410      2.734     -2.356      0.018     -11.799      -1.083\n",
            "Reggaeton                               -14.4799     14.477     -1.000      0.317     -42.857      13.898\n",
            "Soul                                    -10.9230      4.441     -2.459      0.014     -19.629      -2.217\n",
            "Trova                                    65.0345      7.566      8.596      0.000      50.204      79.865\n",
            "Undefined                                -9.2433      2.232     -4.141      0.000     -13.619      -4.868\n",
            "World                                   -32.5780      3.546     -9.186      0.000     -39.529     -25.627\n",
            "Agoura Hills                              2.8895      5.965      0.484      0.628      -8.802      14.582\n",
            "Akron                                    55.0610      9.126      6.033      0.000      37.172      72.951\n",
            "Albany                                   -1.3532      8.799     -0.154      0.878     -18.600      15.894\n",
            "Allen                                    51.1727     26.967      1.898      0.058      -1.686     104.032\n",
            "Anaheim                                  32.6518     11.353      2.876      0.004      10.399      54.905\n",
            "Aventura                                149.0946      6.987     21.338      0.000     135.399     162.791\n",
            "Beaumont                                 60.0850     19.510      3.080      0.002      21.841      98.328\n",
            "Berkeley                                 78.4872     15.294      5.132      0.000      48.509     108.465\n",
            "Bethlehem                                42.8033     11.211      3.818      0.000      20.828      64.778\n",
            "Big Bear Lake                            34.3202      8.048      4.264      0.000      18.545      50.096\n",
            "Binghamton                              -38.2367     14.490     -2.639      0.008     -66.639      -9.835\n",
            "Bloomington                             -86.7228     44.555     -1.946      0.052    -174.059       0.613\n",
            "Boston                                   37.1765     17.601      2.112      0.035       2.675      71.678\n",
            "Brooklyn                                 -9.7949     17.590     -0.557      0.578     -44.275      24.685\n",
            "Buffalo                                  -3.0459      7.835     -0.389      0.697     -18.404      12.312\n",
            "Cabazon                                   3.4157      6.930      0.493      0.622     -10.169      17.000\n",
            "Canton                                  -20.0429     16.794     -1.193      0.233     -52.961      12.876\n",
            "Cedar Park                               36.6953     15.241      2.408      0.016       6.820      66.571\n",
            "Chicago                                 -10.2734     12.746     -0.806      0.420     -35.257      14.710\n",
            "Cincinnati                               -4.9049      8.774     -0.559      0.576     -22.104      12.294\n",
            "Cleveland                               -50.0159     32.774     -1.526      0.127    -114.258      14.226\n",
            "Coconut Creek                           -14.8397     12.362     -1.200      0.230     -39.072       9.393\n",
            "Columbus                                 20.9883      9.249      2.269      0.023       2.859      39.118\n",
            "Concord                                  98.7991     23.719      4.165      0.000      52.306     145.293\n",
            "Coral Gables                            -30.2923     17.848     -1.697      0.090     -65.278       4.693\n",
            "Corpus Christi                          -60.9522     32.588     -1.870      0.061    -124.831       2.926\n",
            "Cupertino                                 7.8149     14.187      0.551      0.582     -19.995      35.624\n",
            "Dallas                                  -50.1117     13.940     -3.595      0.000     -77.436     -22.787\n",
            "Dayton                                  -38.2348     45.662     -0.837      0.402    -127.740      51.270\n",
            "Del Mar                                 -11.9779      8.310     -1.441      0.149     -28.266       4.310\n",
            "Effingham                               -12.0872     16.532     -0.731      0.465     -44.492      20.318\n",
            "Estero                                   44.3536      7.021      6.317      0.000      30.590      58.117\n",
            "Fresno                                  -14.0294      7.146     -1.963      0.050     -28.036      -0.022\n",
            "Ft Lauderdale                            -7.3135      3.692     -1.981      0.048     -14.550      -0.077\n",
            "Gainesville                             -62.7371     13.145     -4.773      0.000     -88.504     -36.970\n",
            "Greensburg                              123.8911     45.479      2.724      0.006      34.745     213.038\n",
            "Harrisburg                              -24.9186      7.694     -3.239      0.001     -40.001      -9.837\n",
            "Henderson                               -91.6419     15.411     -5.947      0.000    -121.849     -61.434\n",
            "Hershey                                  56.3753     12.767      4.416      0.000      31.349      81.401\n",
            "Hollywood                               -26.3928      4.981     -5.299      0.000     -36.156     -16.629\n",
            "Houston                                 -39.1278      8.489     -4.609      0.000     -55.768     -22.487\n",
            "Huber Heights                           -41.9356     15.239     -2.752      0.006     -71.806     -12.065\n",
            "Huntington                               10.1043      5.523      1.830      0.067      -0.721      20.930\n",
            "Inglewood                               -18.8165      8.598     -2.188      0.029     -35.671      -1.962\n",
            "Irving                                   27.8975     14.899      1.872      0.061      -1.307      57.102\n",
            "Jackpot                                  65.7188     13.273      4.951      0.000      39.701      91.736\n",
            "Jacksonville                             19.2974      8.355      2.310      0.021       2.921      35.674\n",
            "Jim Thorpe                              -61.4420      7.741     -7.937      0.000     -76.616     -46.268\n",
            "Johnstown                               -39.4488     35.696     -1.105      0.269    -109.420      30.522\n",
            "Joliet                                  -10.8649     12.567     -0.865      0.387     -35.499      13.769\n",
            "Kingston                                -36.4395     12.462     -2.924      0.003     -60.867     -12.012\n",
            "Lancaster                               -41.7976     10.860     -3.849      0.000     -63.084     -20.511\n",
            "Laredo                                  -43.1926     16.384     -2.636      0.008     -75.308     -11.077\n",
            "Las Vegas                                18.2427      4.008      4.552      0.000      10.386      26.099\n",
            "Laughlin                                 75.6181      8.775      8.618      0.000      58.418      92.818\n",
            "Lincoln                                 -29.3558      7.220     -4.066      0.000     -43.508     -15.204\n",
            "Long Beach                               41.5874     41.481      1.003      0.316     -39.723     122.898\n",
            "Los Angeles                             -32.6750      3.547     -9.211      0.000     -39.628     -25.721\n",
            "Mansfield                               -43.0030     41.989     -1.024      0.306    -125.308      39.302\n",
            "McAllen                                  44.1126     26.981      1.635      0.102      -8.774      96.999\n",
            "Medford                                 -16.4352      8.124     -2.023      0.043     -32.359      -0.511\n",
            "Memphis                                  14.8196     14.561      1.018      0.309     -13.722      43.361\n",
            "Mesquite                                -60.6909     26.842     -2.261      0.024    -113.306      -8.076\n",
            "Miami                                    -7.0850      5.424     -1.306      0.192     -17.717       3.547\n",
            "Miami Beach                              37.8654      4.923      7.691      0.000      28.215      47.516\n",
            "Miramar                                  23.1496      8.243      2.808      0.005       6.992      39.307\n",
            "Moline                                  -12.5916     44.466     -0.283      0.777     -99.752      74.569\n",
            "Napa                                    -11.7401      5.962     -1.969      0.049     -23.427      -0.053\n",
            "Nashville                               -13.0372      9.070     -1.437      0.151     -30.816       4.742\n",
            "New Albany                              156.3282     46.204      3.383      0.001      65.760     246.896\n",
            "New York                                -20.7293      3.236     -6.407      0.000     -27.072     -14.387\n",
            "Niagara Falls                             8.9495     13.077      0.684      0.494     -16.684      34.583\n",
            "Northfield                               -0.7033     12.144     -0.058      0.954     -24.508      23.102\n",
            "Oakland                                   4.5439      5.592      0.813      0.416      -6.417      15.504\n",
            "Ojai                                    -72.6715     13.698     -5.305      0.000     -99.521     -45.822\n",
            "Ontario                                  19.8335      7.931      2.501      0.012       4.287      35.380\n",
            "Orlando                                 -13.9034      4.266     -3.259      0.001     -22.266      -5.541\n",
            "Pasadena                                -44.4643      5.308     -8.376      0.000     -54.869     -34.059\n",
            "Peoria                                   46.2155     32.338      1.429      0.153     -17.172     109.603\n",
            "Pharr                                   -14.7278     26.808     -0.549      0.583     -67.275      37.820\n",
            "Philadelphia                            -55.2594      7.209     -7.666      0.000     -69.390     -41.129\n",
            "Pittsburgh                              -25.8945      8.538     -3.033      0.002     -42.631      -9.158\n",
            "Ponte Vedra Beach                         9.5201      4.026      2.365      0.018       1.629      17.411\n",
            "Poughkeepsie                             15.8493     12.767      1.241      0.214      -9.176      40.875\n",
            "Primm                                   -56.1032      8.120     -6.910      0.000     -72.019     -40.187\n",
            "Queens                                  -10.7936     15.627     -0.691      0.490     -41.425      19.838\n",
            "Reading                                 -31.7571      8.148     -3.898      0.000     -47.728     -15.786\n",
            "Reno                                    -61.8103      6.043    -10.229      0.000     -73.655     -49.965\n",
            "Riverside                               -48.3325      7.646     -6.321      0.000     -63.321     -33.344\n",
            "Rochester                                51.2140      8.173      6.267      0.000      35.194      67.234\n",
            "Rockford                                 23.1391     32.432      0.713      0.476     -40.433      86.711\n",
            "Rosemont                                 20.5946     15.317      1.345      0.179      -9.430      50.619\n",
            "Sacramento                               -9.4681      8.393     -1.128      0.259     -25.919       6.983\n",
            "Salisbury                               -49.9016     13.371     -3.732      0.000     -76.110     -23.693\n",
            "San Antonio                             -21.9827      8.165     -2.692      0.007     -37.987      -5.979\n",
            "San Diego                                13.8517      4.724      2.932      0.003       4.591      23.112\n",
            "San Francisco                           -34.5529      4.025     -8.585      0.000     -42.442     -26.664\n",
            "San Jose                                -61.7862      6.289     -9.824      0.000     -74.114     -49.458\n",
            "Santa Clarita                           -22.2324      5.442     -4.086      0.000     -32.899     -11.566\n",
            "Sarasota                                -90.9411     17.780     -5.115      0.000    -125.792     -56.090\n",
            "Somerville                              -48.7295     12.708     -3.835      0.000     -73.639     -23.820\n",
            "Springfield                             -33.0073     13.424     -2.459      0.014     -59.320      -6.694\n",
            "St Augustine                            -17.3444      6.844     -2.534      0.011     -30.760      -3.928\n",
            "St Petersburg                           -18.4578      9.772     -1.889      0.059     -37.612       0.697\n",
            "Stafford                                 34.8400     32.713      1.065      0.287     -29.284      98.964\n",
            "Stateline                                88.0356     11.945      7.370      0.000      64.621     111.450\n",
            "Staten Island                           -21.5952      5.297     -4.077      0.000     -31.977     -11.213\n",
            "Stockton                                -11.5461      7.080     -1.631      0.103     -25.424       2.332\n",
            "Sugar Land                               29.0826     11.144      2.610      0.009       7.238      50.928\n",
            "Sunrise                                  25.9824     26.903      0.966      0.334     -26.752      78.717\n",
            "Syracuse                                 60.7956     13.821      4.399      0.000      33.704      87.887\n",
            "Tampa                                   -23.8827      8.619     -2.771      0.006     -40.776      -6.989\n",
            "Temecula                                110.7421     47.027      2.355      0.019      18.562     202.922\n",
            "Toledo                                   13.2169     14.385      0.919      0.358     -14.980      41.414\n",
            "University Park                         101.6721     55.712      1.825      0.068      -7.533     210.877\n",
            "Upper Darby                             -55.2808     23.586     -2.344      0.019    -101.513      -9.049\n",
            "Verona                                  -32.2583      6.940     -4.648      0.000     -45.862     -18.655\n",
            "Warren                                 -110.6673     11.198     -9.883      0.000    -132.618     -88.717\n",
            "Waukegan                                 13.8420     44.533      0.311      0.756     -73.450     101.134\n",
            "West Palm Beach                          -0.4955      8.953     -0.055      0.956     -18.045      17.054\n",
            "Westbury                                  8.4258      4.393      1.918      0.055      -0.186      17.037\n",
            "White Plains                             10.3846     14.142      0.734      0.463     -17.335      38.104\n",
            "Wilkes-Barre                             19.3172      9.664      1.999      0.046       0.373      38.261\n",
            "Worcester                               118.3319     41.976      2.819      0.005      36.052     200.612\n",
            "Ybor City                               -42.6902     12.674     -3.368      0.001     -67.533     -17.848\n",
            "Youngstown                               44.1705     32.608      1.355      0.176     -19.746     108.087\n",
            "CA                                       -1.1043      3.461     -0.319      0.750      -7.889       5.680\n",
            "FL                                      -20.7195      3.326     -6.229      0.000     -27.240     -14.199\n",
            "IL                                      -28.7489      9.734     -2.953      0.003     -47.829      -9.669\n",
            "MA                                       -2.5609     10.265     -0.249      0.803     -22.681      17.560\n",
            "NV                                       38.0598      3.987      9.547      0.000      30.245      45.874\n",
            "NY                                       -8.5236      3.300     -2.583      0.010     -14.993      -2.054\n",
            "OH                                       -9.7471      6.318     -1.543      0.123     -22.132       2.638\n",
            "PA                                        8.2601      6.506      1.270      0.204      -4.493      21.013\n",
            "TN                                        1.7824      7.343      0.243      0.808     -12.611      16.176\n",
            "TX                                       -6.8999      5.507     -1.253      0.210     -17.695       3.895\n",
            "Friday                                   -5.3913      1.298     -4.153      0.000      -7.936      -2.846\n",
            "Monday                                    2.0613      2.477      0.832      0.405      -2.793       6.916\n",
            "Saturday                                 -6.9264      1.302     -5.320      0.000      -9.478      -4.374\n",
            "Sunday                                   -2.1055      1.816     -1.159      0.246      -5.665       1.454\n",
            "Thursday                                 -7.0904      1.342     -5.284      0.000      -9.721      -4.460\n",
            "Tuesday                                  -6.5138      1.740     -3.743      0.000      -9.925      -3.103\n",
            "Wednesday                                -4.2356      1.579     -2.683      0.007      -7.330      -1.141\n",
            "==============================================================================\n",
            "Omnibus:                     2029.933   Durbin-Watson:                   1.910\n",
            "Prob(Omnibus):                  0.000   Jarque-Bera (JB):             7505.771\n",
            "Skew:                           0.831   Prob(JB):                         0.00\n",
            "Kurtosis:                       6.525   Cond. No.                     4.25e+18\n",
            "==============================================================================\n",
            "\n",
            "Warnings:\n",
            "[1] Standard Errors assume that the covariance matrix of the errors is correctly specified.\n",
            "[2] The smallest eigenvalue is 7.51e-22. This might indicate that there are\n",
            "strong multicollinearity problems or that the design matrix is singular.\n"
          ],
          "name": "stdout"
        }
      ]
    },
    {
      "metadata": {
        "id": "MwYmN9cWupZW",
        "colab_type": "code",
        "colab": {}
      },
      "cell_type": "code",
      "source": [
        "#Why do we have monday with those values? \n",
        "\n",
        "df_monday=df[df['weekday']==\"Monday\"]"
      ],
      "execution_count": 0,
      "outputs": []
    },
    {
      "metadata": {
        "id": "n3FLnhREvL22",
        "colab_type": "code",
        "outputId": "f0981b6d-9c95-424e-e83a-99e59e6ab1c7",
        "colab": {
          "base_uri": "https://localhost:8080/",
          "height": 357
        }
      },
      "cell_type": "code",
      "source": [
        "df_monday[\"genre\"].value_counts()"
      ],
      "execution_count": 0,
      "outputs": [
        {
          "output_type": "execute_result",
          "data": {
            "text/plain": [
              "Rock                138\n",
              "Metal                75\n",
              "World                45\n",
              "Country              28\n",
              "Dance/Electronic     26\n",
              "Hip-Hop/Rap          20\n",
              "Religious            17\n",
              "Other                13\n",
              "Folk                 12\n",
              "Pop                   7\n",
              "Blues                 2\n",
              "R&B                   1\n",
              "Reggae                0\n",
              "New Age               0\n",
              "Undefined             0\n",
              "Jazz                  0\n",
              "Comedy                0\n",
              "Classical             0\n",
              "Ballads/Romantic      0\n",
              "Name: genre, dtype: int64"
            ]
          },
          "metadata": {
            "tags": []
          },
          "execution_count": 43
        }
      ]
    },
    {
      "metadata": {
        "id": "HR9Kxln4wOPm",
        "colab_type": "code",
        "outputId": "57dc8d73-2b21-4075-8b0b-fd3ebe369e98",
        "colab": {
          "base_uri": "https://localhost:8080/",
          "height": 1071
        }
      },
      "cell_type": "code",
      "source": [
        "df_monday[\"venue_city\"].value_counts()"
      ],
      "execution_count": 0,
      "outputs": [
        {
          "output_type": "execute_result",
          "data": {
            "text/plain": [
              "Columbus             80\n",
              "Oakland              30\n",
              "Ft Lauderdale        30\n",
              "New York             29\n",
              "Los Angeles          27\n",
              "Philadelphia         25\n",
              "Orlando              24\n",
              "San Francisco        22\n",
              "Ponte Vedra Beach    18\n",
              "Miami Beach          14\n",
              "Cabazon              12\n",
              "Cincinnati           12\n",
              "Riverside            11\n",
              "Pittsburgh           10\n",
              "Tampa                 9\n",
              "San Antonio           6\n",
              "Boston                6\n",
              "McAllen               3\n",
              "Buffalo               3\n",
              "Akron                 3\n",
              "Chicago               3\n",
              "Wilkes-Barre          2\n",
              "Huber Heights         1\n",
              "Youngstown            1\n",
              "Irving                1\n",
              "Nashville             1\n",
              "Lancaster             1\n",
              "Hollywood             0\n",
              "Laredo                0\n",
              "Kingston              0\n",
              "                     ..\n",
              "Worcester             0\n",
              "San Jose              0\n",
              "Salisbury             0\n",
              "Long Beach            0\n",
              "Ojai                  0\n",
              "Mansfield             0\n",
              "Medford               0\n",
              "Memphis               0\n",
              "Ybor City             0\n",
              "Miami                 0\n",
              "Miramar               0\n",
              "Moline                0\n",
              "Napa                  0\n",
              "New Albany            0\n",
              "Niagara Falls         0\n",
              "Northfield            0\n",
              "Ontario               0\n",
              "Sacramento            0\n",
              "Pasadena              0\n",
              "Peoria                0\n",
              "Pharr                 0\n",
              "Poughkeepsie          0\n",
              "Primm                 0\n",
              "Queens                0\n",
              "Reading               0\n",
              "Reno                  0\n",
              "Rochester             0\n",
              "Rockford              0\n",
              "Rosemont              0\n",
              "Agoura Hills          0\n",
              "Name: venue_city, Length: 126, dtype: int64"
            ]
          },
          "metadata": {
            "tags": []
          },
          "execution_count": 44
        }
      ]
    },
    {
      "metadata": {
        "id": "0xiafQ__hQza",
        "colab_type": "code",
        "outputId": "deec73e9-8b20-4023-c013-8f32dcda2c99",
        "colab": {
          "base_uri": "https://localhost:8080/",
          "height": 642
        }
      },
      "cell_type": "code",
      "source": [
        "import matplotlib.pyplot as plt\n",
        "\n",
        "plt.figure(figsize=(10,10))\n",
        "\n",
        "# Plot outputs\n",
        "plt.scatter(y_test,regr.predict(X_test), s=4, alpha=0.5)\n",
        "#plt.plot(X_test, y_pred, color='blue', linewidth=3)\n",
        "plt.xlim(0,400)\n",
        "plt.ylim(0,400)\n",
        "plt.xlabel(\"Prices: $Y_i$\")\n",
        "plt.ylabel(\"Predicted prices: $\\hat{Y}_i$\")\n",
        "plt.title(\"Test vs predicted\")\n"
      ],
      "execution_count": 0,
      "outputs": [
        {
          "output_type": "execute_result",
          "data": {
            "text/plain": [
              "Text(0.5, 1.0, 'Test vs predicted')"
            ]
          },
          "metadata": {
            "tags": []
          },
          "execution_count": 47
        },
        {
          "output_type": "display_data",
          "data": {
            "image/png": "[encoded data removed]",
            "text/plain": [
              "<Figure size 720x720 with 1 Axes>"
            ]
          },
          "metadata": {
            "tags": []
          }
        }
      ]
    },
    {
      "metadata": {
        "id": "nXLkifI3d_7Y",
        "colab_type": "text"
      },
      "cell_type": "markdown",
      "source": [
        ""
      ]
    },
    {
      "metadata": {
        "id": "A6iOUvGS8Zj5",
        "colab_type": "text"
      },
      "cell_type": "markdown",
      "source": [
        "\n",
        "\n",
        "```\n",
        "Review Data\n",
        "```\n",
        "\n"
      ]
    },
    {
      "metadata": {
        "id": "WULQmxaBXVeS",
        "colab_type": "code",
        "outputId": "533c0332-ab05-457a-a170-d1f09f3dd60e",
        "colab": {
          "base_uri": "https://localhost:8080/",
          "height": 432
        }
      },
      "cell_type": "code",
      "source": [
        "import seaborn as sns\n",
        "\n",
        "fig, ax = plt.subplots()\n",
        "fig.set_size_inches(7, 7)\n",
        "\n",
        "correct = y_test.SG_average_price.values\n",
        "predicted = regr.predict(X_test).T[0]\n",
        "error = predicted-correct\n",
        "visdf = pd.DataFrame( {\"Correct\": correct, \"Predicted\": predicted, \"Error\": error})"
      ],
      "execution_count": 0,
      "outputs": [
        {
          "output_type": "display_data",
          "data": {
            "image/png": "[encoded data removed]",
            "text/plain": [
              "<Figure size 504x504 with 1 Axes>"
            ]
          },
          "metadata": {
            "tags": []
          }
        }
      ]
    },
    {
      "metadata": {
        "id": "1akdJkZclJbO",
        "colab_type": "code",
        "outputId": "9446c8cf-0323-48f2-d0ba-c5ff46aebe5c",
        "colab": {
          "base_uri": "https://localhost:8080/",
          "height": 300
        }
      },
      "cell_type": "code",
      "source": [
        "# Errors not correlated with predicted value\n",
        "\n",
        "ax = sns.regplot(x=\"Predicted\", y=\"Error\", \n",
        "                 scatter_kws = {\"s\": 4, \"alpha\": 0.5},\n",
        "                 line_kws = {\"alpha\": 0.5},\n",
        "                 data=visdf)\n",
        "#ax.set_ylim(0,400)\n",
        "ax.set_xlim(0,400)"
      ],
      "execution_count": 0,
      "outputs": [
        {
          "output_type": "execute_result",
          "data": {
            "text/plain": [
              "(0, 400)"
            ]
          },
          "metadata": {
            "tags": []
          },
          "execution_count": 51
        },
        {
          "output_type": "display_data",
          "data": {
            "image/png": "[encoded data removed]",
            "text/plain": [
              "<Figure size 432x288 with 1 Axes>"
            ]
          },
          "metadata": {
            "tags": []
          }
        }
      ]
    },
    {
      "metadata": {
        "id": "IT4pycjVlJXq",
        "colab_type": "code",
        "outputId": "8dd655b5-7b35-474e-94e3-db3ad233b8d8",
        "colab": {
          "base_uri": "https://localhost:8080/",
          "height": 300
        }
      },
      "cell_type": "code",
      "source": [
        "# Errors ARE correlated with correct value\n",
        "\n",
        "ax = sns.regplot(x=\"Correct\", y=\"Error\", \n",
        "                 scatter_kws = {\"s\": 4, \"alpha\": 0.5},\n",
        "                 line_kws = {\"alpha\": 0.5},\n",
        "                 data=visdf)\n",
        "#ax.set_ylim(0,400)\n",
        "ax.set_xlim(0,400)"
      ],
      "execution_count": 0,
      "outputs": [
        {
          "output_type": "execute_result",
          "data": {
            "text/plain": [
              "(0, 400)"
            ]
          },
          "metadata": {
            "tags": []
          },
          "execution_count": 52
        },
        {
          "output_type": "display_data",
          "data": {
            "image/png": "[encoded data removed]",
            "text/plain": [
              "<Figure size 432x288 with 1 Axes>"
            ]
          },
          "metadata": {
            "tags": []
          }
        }
      ]
    },
    {
      "metadata": {
        "id": "aJCoQhDPXAcN",
        "colab_type": "code",
        "colab": {}
      },
      "cell_type": "code",
      "source": [
        ""
      ],
      "execution_count": 0,
      "outputs": []
    },
    {
      "metadata": {
        "id": "D6CSzeswAiRo",
        "colab_type": "code",
        "outputId": "c83eb936-9bcd-456f-fe06-a87f0db55ee2",
        "colab": {
          "base_uri": "https://localhost:8080/",
          "height": 68
        }
      },
      "cell_type": "code",
      "source": [
        "#Checking amount of concerts > 350\n",
        "\n",
        "print(Y[Y > 350].count())\n",
        "\n",
        "##Only 4.7% of total df\n",
        "(523/11144)*100\n"
      ],
      "execution_count": 0,
      "outputs": [
        {
          "output_type": "stream",
          "text": [
            "SG_average_price    255\n",
            "dtype: int64\n"
          ],
          "name": "stdout"
        },
        {
          "output_type": "execute_result",
          "data": {
            "text/plain": [
              "4.69310839913855"
            ]
          },
          "metadata": {
            "tags": []
          },
          "execution_count": 53
        }
      ]
    },
    {
      "metadata": {
        "id": "zrUHiMVUGHDk",
        "colab_type": "code",
        "outputId": "53ddad55-987a-4a89-e400-ca9763561109",
        "colab": {
          "base_uri": "https://localhost:8080/",
          "height": 315
        }
      },
      "cell_type": "code",
      "source": [
        "#Histogram of  price range \n",
        "Y.hist(bins=10)"
      ],
      "execution_count": 0,
      "outputs": [
        {
          "output_type": "execute_result",
          "data": {
            "text/plain": [
              "array([[<matplotlib.axes._subplots.AxesSubplot object at 0x7fa4ad462940>]],\n",
              "      dtype=object)"
            ]
          },
          "metadata": {
            "tags": []
          },
          "execution_count": 54
        },
        {
          "output_type": "display_data",
          "data": {
            "image/png": "[encoded data removed]",
            "text/plain": [
              "<Figure size 432x288 with 1 Axes>"
            ]
          },
          "metadata": {
            "tags": []
          }
        }
      ]
    },
    {
      "metadata": {
        "id": "8gizwzh46LBb",
        "colab_type": "code",
        "outputId": "5c659cb6-da08-434f-def6-14ea9a842291",
        "colab": {
          "base_uri": "https://localhost:8080/",
          "height": 283
        }
      },
      "cell_type": "code",
      "source": [
        "#reg=LinearRegression()\n",
        "#reg.fit(X,y)\n",
        "#yp=reg.predict(X)\n",
        "Y.mse_resid"
      ],
      "execution_count": 0,
      "outputs": [
        {
          "output_type": "error",
          "ename": "AttributeError",
          "evalue": "ignored",
          "traceback": [
            "\u001b[0;31m---------------------------------------------------------------------------\u001b[0m",
            "\u001b[0;31mAttributeError\u001b[0m                            Traceback (most recent call last)",
            "\u001b[0;32m<ipython-input-55-71afae71aee0>\u001b[0m in \u001b[0;36m<module>\u001b[0;34m()\u001b[0m\n\u001b[0;32m----> 1\u001b[0;31m \u001b[0mY\u001b[0m\u001b[0;34m.\u001b[0m\u001b[0mmse_resid\u001b[0m\u001b[0;34m\u001b[0m\u001b[0;34m\u001b[0m\u001b[0m\n\u001b[0m",
            "\u001b[0;32m/usr/local/lib/python3.6/dist-packages/pandas/core/generic.py\u001b[0m in \u001b[0;36m__getattr__\u001b[0;34m(self, name)\u001b[0m\n\u001b[1;32m   4374\u001b[0m             \u001b[0;32mif\u001b[0m \u001b[0mself\u001b[0m\u001b[0;34m.\u001b[0m\u001b[0m_info_axis\u001b[0m\u001b[0;34m.\u001b[0m\u001b[0m_can_hold_identifiers_and_holds_name\u001b[0m\u001b[0;34m(\u001b[0m\u001b[0mname\u001b[0m\u001b[0;34m)\u001b[0m\u001b[0;34m:\u001b[0m\u001b[0;34m\u001b[0m\u001b[0;34m\u001b[0m\u001b[0m\n\u001b[1;32m   4375\u001b[0m                 \u001b[0;32mreturn\u001b[0m \u001b[0mself\u001b[0m\u001b[0;34m[\u001b[0m\u001b[0mname\u001b[0m\u001b[0;34m]\u001b[0m\u001b[0;34m\u001b[0m\u001b[0;34m\u001b[0m\u001b[0m\n\u001b[0;32m-> 4376\u001b[0;31m             \u001b[0;32mreturn\u001b[0m \u001b[0mobject\u001b[0m\u001b[0;34m.\u001b[0m\u001b[0m__getattribute__\u001b[0m\u001b[0;34m(\u001b[0m\u001b[0mself\u001b[0m\u001b[0;34m,\u001b[0m \u001b[0mname\u001b[0m\u001b[0;34m)\u001b[0m\u001b[0;34m\u001b[0m\u001b[0;34m\u001b[0m\u001b[0m\n\u001b[0m\u001b[1;32m   4377\u001b[0m \u001b[0;34m\u001b[0m\u001b[0m\n\u001b[1;32m   4378\u001b[0m     \u001b[0;32mdef\u001b[0m \u001b[0m__setattr__\u001b[0m\u001b[0;34m(\u001b[0m\u001b[0mself\u001b[0m\u001b[0;34m,\u001b[0m \u001b[0mname\u001b[0m\u001b[0;34m,\u001b[0m \u001b[0mvalue\u001b[0m\u001b[0;34m)\u001b[0m\u001b[0;34m:\u001b[0m\u001b[0;34m\u001b[0m\u001b[0;34m\u001b[0m\u001b[0m\n",
            "\u001b[0;31mAttributeError\u001b[0m: 'DataFrame' object has no attribute 'mse_resid'"
          ]
        }
      ]
    },
    {
      "metadata": {
        "id": "HOR8sIm7xOkk",
        "colab_type": "text"
      },
      "cell_type": "markdown",
      "source": [
        "---\n",
        " End of OLS\n",
        "\n"
      ]
    },
    {
      "metadata": {
        "id": "6jFEXIeyxT2q",
        "colab_type": "text"
      },
      "cell_type": "markdown",
      "source": [
        "#Ridge\n"
      ]
    },
    {
      "metadata": {
        "id": "FxWlYzefxmQk",
        "colab_type": "code",
        "colab": {}
      },
      "cell_type": "code",
      "source": [
        "# Split \n",
        "X_train2, X_test2, y_train2, y_test2 = train_test_split(X, Y, test_size=.3,random_state=3)\n"
      ],
      "execution_count": 0,
      "outputs": []
    },
    {
      "metadata": {
        "id": "Zbsr0xnkx7Nf",
        "colab_type": "code",
        "outputId": "43c0c0fa-997b-40aa-af01-ce9f3456192b",
        "colab": {
          "base_uri": "https://localhost:8080/",
          "height": 119
        }
      },
      "cell_type": "code",
      "source": [
        "print (\"X.shape:\", X.shape)\n",
        "print (\"Y.shape:\", Y.shape)\n",
        "print (\"X_train.shape:\", X_train2.shape)\n",
        "print (\"X_test.shape:\", X_test2.shape)\n",
        "print (\"y_train.shape:\", y_train2.shape)\n",
        "print (\"y_test.shape:\", y_test2.shape)"
      ],
      "execution_count": 0,
      "outputs": [
        {
          "output_type": "stream",
          "text": [
            "X.shape: (11861, 230)\n",
            "Y.shape: (11861, 1)\n",
            "X_train.shape: (8302, 230)\n",
            "X_test.shape: (3559, 230)\n",
            "y_train.shape: (8302, 1)\n",
            "y_test.shape: (3559, 1)\n"
          ],
          "name": "stdout"
        }
      ]
    },
    {
      "metadata": {
        "id": "32TZJPA2yGR7",
        "colab_type": "code",
        "outputId": "13b21677-c2b1-4546-f314-8e4ebdb141ac",
        "colab": {
          "base_uri": "https://localhost:8080/",
          "height": 51
        }
      },
      "cell_type": "code",
      "source": [
        "from sklearn.linear_model import LinearRegression\n",
        "from sklearn.linear_model import Ridge\n",
        "lr = LinearRegression()\n",
        "lr.fit(X_train, y_train)"
      ],
      "execution_count": 0,
      "outputs": [
        {
          "output_type": "execute_result",
          "data": {
            "text/plain": [
              "LinearRegression(copy_X=True, fit_intercept=True, n_jobs=None,\n",
              "         normalize=False)"
            ]
          },
          "metadata": {
            "tags": []
          },
          "execution_count": 31
        }
      ]
    },
    {
      "metadata": {
        "id": "4cXMpR6LyJHt",
        "colab_type": "code",
        "colab": {}
      },
      "cell_type": "code",
      "source": [
        "rr = Ridge(alpha=0.01) # higher the alpha value, more restriction on the coefficients; low alpha > more generalization, coefficients are barely"
      ],
      "execution_count": 0,
      "outputs": []
    },
    {
      "metadata": {
        "id": "4V4OoKPFyYXU",
        "colab_type": "code",
        "outputId": "993048f1-c981-4ee9-f580-2bd90d542bcb",
        "colab": {
          "base_uri": "https://localhost:8080/",
          "height": 119
        }
      },
      "cell_type": "code",
      "source": [
        "# restricted and in this case linear and ridge regression resembles\n",
        "rr.fit(X_train, y_train)"
      ],
      "execution_count": 0,
      "outputs": [
        {
          "output_type": "stream",
          "text": [
            "/usr/local/lib/python3.6/dist-packages/sklearn/linear_model/ridge.py:125: LinAlgWarning: scipy.linalg.solve\n",
            "Ill-conditioned matrix detected. Result is not guaranteed to be accurate.\n",
            "Reciprocal condition number4.600262e-19\n",
            "  overwrite_a=True).T\n"
          ],
          "name": "stderr"
        },
        {
          "output_type": "execute_result",
          "data": {
            "text/plain": [
              "Ridge(alpha=0.01, copy_X=True, fit_intercept=True, max_iter=None,\n",
              "   normalize=False, random_state=None, solver='auto', tol=0.001)"
            ]
          },
          "metadata": {
            "tags": []
          },
          "execution_count": 33
        }
      ]
    },
    {
      "metadata": {
        "id": "7DyhZ0GSytAu",
        "colab_type": "code",
        "outputId": "64d1b823-3b4a-4e85-aa6a-9949f7721123",
        "colab": {
          "base_uri": "https://localhost:8080/",
          "height": 51
        }
      },
      "cell_type": "code",
      "source": [
        "#Comparison with alpha value\n",
        "rr100 = Ridge(alpha=100)\n",
        "rr100.fit(X_train, y_train)"
      ],
      "execution_count": 0,
      "outputs": [
        {
          "output_type": "execute_result",
          "data": {
            "text/plain": [
              "Ridge(alpha=100, copy_X=True, fit_intercept=True, max_iter=None,\n",
              "   normalize=False, random_state=None, solver='auto', tol=0.001)"
            ]
          },
          "metadata": {
            "tags": []
          },
          "execution_count": 34
        }
      ]
    },
    {
      "metadata": {
        "id": "VsKQnOnMyzXk",
        "colab_type": "code",
        "colab": {}
      },
      "cell_type": "code",
      "source": [
        "train_score=lr.score(X_train, y_train)\n",
        "test_score=lr.score(X_test, y_test)"
      ],
      "execution_count": 0,
      "outputs": []
    },
    {
      "metadata": {
        "id": "4rVAo9IYy3iQ",
        "colab_type": "code",
        "colab": {}
      },
      "cell_type": "code",
      "source": [
        "Ridge_train_score = rr.score(X_train,y_train)\n",
        "Ridge_test_score = rr.score(X_test, y_test)"
      ],
      "execution_count": 0,
      "outputs": []
    },
    {
      "metadata": {
        "id": "fTWvlYD2y4Z6",
        "colab_type": "code",
        "colab": {}
      },
      "cell_type": "code",
      "source": [
        "Ridge_train_score100 = rr100.score(X_train,y_train)\n",
        "Ridge_test_score100 = rr100.score(X_test, y_test)"
      ],
      "execution_count": 0,
      "outputs": []
    },
    {
      "metadata": {
        "id": "e987i3aVy9Eo",
        "colab_type": "code",
        "outputId": "35b487a7-6615-4aa0-feae-9549bbb8d591",
        "colab": {
          "base_uri": "https://localhost:8080/",
          "height": 119
        }
      },
      "cell_type": "code",
      "source": [
        "print (\"linear regression train score:\", train_score)\n",
        "print (\"linear regression test score:\", test_score)\n",
        "print (\"ridge regression train score low alpha:\", Ridge_train_score)\n",
        "print (\"ridge regression test score low alpha:\", Ridge_test_score)\n",
        "print (\"ridge regression train score high alpha:\", Ridge_train_score100)\n",
        "print (\"ridge regression test score high alpha:\", Ridge_test_score100)"
      ],
      "execution_count": 0,
      "outputs": [
        {
          "output_type": "stream",
          "text": [
            "linear regression train score: 0.5746194814486127\n",
            "linear regression test score: 0.5324866583001516\n",
            "ridge regression train score low alpha: 0.5746191683048305\n",
            "ridge regression test score low alpha: 0.5325059214119183\n",
            "ridge regression train score high alpha: 0.4870197895863806\n",
            "ridge regression test score high alpha: 0.4475199718991806\n"
          ],
          "name": "stdout"
        }
      ]
    },
    {
      "metadata": {
        "id": "ZLOE1NhUzMjU",
        "colab_type": "code",
        "outputId": "031d5bd6-0597-4273-f375-abfe27353f01",
        "colab": {
          "base_uri": "https://localhost:8080/",
          "height": 347
        }
      },
      "cell_type": "code",
      "source": [
        "plt.plot(rr.coef_,alpha=0.7,linestyle='none',marker='*',markersize=5,color='red',label=r'Ridge; $\\alpha = 0.01$',zorder=7); # zorder for ordering the markers"
      ],
      "execution_count": 0,
      "outputs": [
        {
          "output_type": "display_data",
          "data": {
            "image/png": "[encoded data removed]",
            "text/plain": [
              "<Figure size 576x396 with 1 Axes>"
            ]
          },
          "metadata": {
            "tags": []
          }
        }
      ]
    },
    {
      "metadata": {
        "id": "wf66l7lyzjwm",
        "colab_type": "code",
        "outputId": "daa0ea6f-7c2c-4aa3-aaca-e4855b35ea7c",
        "colab": {
          "base_uri": "https://localhost:8080/",
          "height": 347
        }
      },
      "cell_type": "code",
      "source": [
        "plt.plot(rr100.coef_,alpha=0.5,linestyle='none',marker='d',markersize=6,color='blue',label=r'Ridge; $\\alpha = 100$'); # alpha here is for transparency"
      ],
      "execution_count": 0,
      "outputs": [
        {
          "output_type": "display_data",
          "data": {
            "image/png": "[encoded data removed]",
            "text/plain": [
              "<Figure size 576x396 with 1 Axes>"
            ]
          },
          "metadata": {
            "tags": []
          }
        }
      ]
    },
    {
      "metadata": {
        "id": "o5PMNUhqzndC",
        "colab_type": "code",
        "outputId": "58fff715-49ab-484c-80ab-f71cd4d7e2e3",
        "colab": {
          "base_uri": "https://localhost:8080/",
          "height": 347
        }
      },
      "cell_type": "code",
      "source": [
        "plt.plot(lr.coef_,alpha=0.4,linestyle='none',marker='o',markersize=7,color='green',label='Linear Regression');"
      ],
      "execution_count": 0,
      "outputs": [
        {
          "output_type": "display_data",
          "data": {
            "image/png": "[encoded data removed]",
            "text/plain": [
              "<Figure size 576x396 with 1 Axes>"
            ]
          },
          "metadata": {
            "tags": []
          }
        }
      ]
    },
    {
      "metadata": {
        "id": "wAkmz96Nz_EG",
        "colab_type": "code",
        "outputId": "86ce221c-627d-4ed0-ed21-12f0033b9976",
        "colab": {
          "base_uri": "https://localhost:8080/",
          "height": 383
        }
      },
      "cell_type": "code",
      "source": [
        "plt.plot(rr.coef_,alpha=0.7,linestyle='none',marker='*',markersize=5,color='red',zorder=7); # zorder for ordering the markers,label=r'Ridge; $\\alpha = 0.01$'\n",
        "plt.plot(rr100.coef_,alpha=0.5,linestyle='none',marker='d',markersize=6,color='blue'); # alpha here is for transparency,label=r'Ridge; $\\alpha = 100$'\n",
        "plt.plot(lr.coef_,alpha=0.4,linestyle='none',marker='o',markersize=7,color='green'); #label='Linear Regression'\n",
        "plt.legend(fontsize=13,loc=4)\n",
        "plt.xlabel('Coefficient Index',fontsize=16)\n",
        "plt.ylabel('Coefficient Magnitude',fontsize=16)\n",
        "plt.show()"
      ],
      "execution_count": 0,
      "outputs": [
        {
          "output_type": "stream",
          "text": [
            "No handles with labels found to put in legend.\n"
          ],
          "name": "stderr"
        },
        {
          "output_type": "display_data",
          "data": {
            "image/png": "[encoded data removed]",
            "text/plain": [
              "<Figure size 576x396 with 1 Axes>"
            ]
          },
          "metadata": {
            "tags": []
          }
        }
      ]
    },
    {
      "metadata": {
        "id": "k_FZ0l3r0vuK",
        "colab_type": "text"
      },
      "cell_type": "markdown",
      "source": [
        "#Lasso Regression\n"
      ]
    },
    {
      "metadata": {
        "id": "9SiWfmPJ0yrk",
        "colab_type": "code",
        "colab": {}
      },
      "cell_type": "code",
      "source": [
        "import math \n",
        "import matplotlib.pyplot as plt \n",
        "import pandas as pd\n",
        "import numpy as np\n",
        "# difference of lasso and ridge regression is that some of the coefficients can be zero i.e. some of the features are completely neglected\n",
        "from sklearn.linear_model import Lasso\n",
        "from sklearn.linear_model import LinearRegression"
      ],
      "execution_count": 0,
      "outputs": []
    },
    {
      "metadata": {
        "id": "fG2y0_da1E_1",
        "colab_type": "code",
        "colab": {}
      },
      "cell_type": "code",
      "source": [
        "X_train3, X_test3, y_train3, y_test3 = train_test_split(X, Y, test_size=.3,random_state=31)\n"
      ],
      "execution_count": 0,
      "outputs": []
    },
    {
      "metadata": {
        "id": "BIo9x9ZE1J1j",
        "colab_type": "code",
        "outputId": "a015109d-8a3f-4ecd-f506-930257a8b594",
        "colab": {
          "base_uri": "https://localhost:8080/",
          "height": 123
        }
      },
      "cell_type": "code",
      "source": [
        "print (\"X.shape:\", X.shape)\n",
        "print (\"Y.shape:\", Y.shape)\n",
        "print (\"X_train.shape:\", X_train3.shape)\n",
        "print (\"X_test.shape:\", X_test3.shape)\n",
        "print (\"y_train.shape:\", y_train3.shape)\n",
        "print (\"y_test.shape:\", y_test3.shape)"
      ],
      "execution_count": 0,
      "outputs": [
        {
          "output_type": "stream",
          "text": [
            "X.shape: (11861, 230)\n",
            "Y.shape: (11861, 1)\n",
            "X_train.shape: (8302, 230)\n",
            "X_test.shape: (3559, 230)\n",
            "y_train.shape: (8302, 1)\n",
            "y_test.shape: (3559, 1)\n"
          ],
          "name": "stdout"
        }
      ]
    },
    {
      "metadata": {
        "id": "Dn0061uv1R3K",
        "colab_type": "code",
        "colab": {}
      },
      "cell_type": "code",
      "source": [
        "lasso = Lasso()\n",
        "lasso.fit(X_train3,y_train3)\n",
        "train_score=lasso.score(X_train3,y_train3)\n",
        "test_score=lasso.score(X_test3,y_test3)\n",
        "coeff_used = np.sum(lasso.coef_!=0)"
      ],
      "execution_count": 0,
      "outputs": []
    },
    {
      "metadata": {
        "id": "Qd9M4me51UaW",
        "colab_type": "code",
        "outputId": "793b52a4-6a7a-4dbf-90fb-b6bf7a80db07",
        "colab": {
          "base_uri": "https://localhost:8080/",
          "height": 70
        }
      },
      "cell_type": "code",
      "source": [
        "print (\"training score:\", train_score )\n",
        "print (\"test score: \", test_score)\n",
        "print (\"number of features used: \", coeff_used)"
      ],
      "execution_count": 0,
      "outputs": [
        {
          "output_type": "stream",
          "text": [
            "training score: 0.3651782539958146\n",
            "test score:  0.337909204013355\n",
            "number of features used:  15\n"
          ],
          "name": "stdout"
        }
      ]
    },
    {
      "metadata": {
        "id": "DAxLr-_P1edy",
        "colab_type": "code",
        "colab": {}
      },
      "cell_type": "code",
      "source": [
        "#Alpha 0.01\n",
        "lasso001 = Lasso(alpha=0.01, max_iter=10e5)\n",
        "lasso001.fit(X_train3,y_train3)\n",
        "\n",
        "train_score001=lasso001.score(X_train3,y_train3)\n",
        "test_score001=lasso001.score(X_test3,y_test3)\n",
        "coeff_used001 = np.sum(lasso001.coef_!=0)"
      ],
      "execution_count": 0,
      "outputs": []
    },
    {
      "metadata": {
        "id": "gO16Y-TV1lXI",
        "colab_type": "code",
        "outputId": "bb447328-9aaa-4b32-d058-a137f2c0dd8c",
        "colab": {
          "base_uri": "https://localhost:8080/",
          "height": 70
        }
      },
      "cell_type": "code",
      "source": [
        "print (\"training score for alpha=0.01:\", train_score001) \n",
        "print (\"test score for alpha =0.01: \", test_score001)\n",
        "print (\"number of features used: for alpha =0.01:\", coeff_used001)"
      ],
      "execution_count": 0,
      "outputs": [
        {
          "output_type": "stream",
          "text": [
            "training score for alpha=0.01: 0.5703521603306486\n",
            "test score for alpha =0.01:  0.5423506248217163\n",
            "number of features used: for alpha =0.01: 173\n"
          ],
          "name": "stdout"
        }
      ]
    },
    {
      "metadata": {
        "id": "O-twSO4f1yWQ",
        "colab_type": "code",
        "colab": {}
      },
      "cell_type": "code",
      "source": [
        "#ALPHA 0.0001\n",
        "lasso00001 = Lasso(alpha=0.0001, max_iter=10e5)\n",
        "lasso00001.fit(X_train3,y_train3)\n",
        "\n",
        "train_score00001=lasso00001.score(X_train3,y_train3)\n",
        "test_score00001=lasso00001.score(X_test3,y_test3)\n",
        "coeff_used00001 = np.sum(lasso00001.coef_!=0)"
      ],
      "execution_count": 0,
      "outputs": []
    },
    {
      "metadata": {
        "id": "LVHvVxtv11-z",
        "colab_type": "code",
        "outputId": "aceb0e58-cdc0-49de-a999-7db1fab0b383",
        "colab": {
          "base_uri": "https://localhost:8080/",
          "height": 70
        }
      },
      "cell_type": "code",
      "source": [
        "print (\"training score for alpha=0.0001:\", train_score00001 )\n",
        "print (\"test score for alpha =0.0001: \", test_score00001)\n",
        "print (\"number of features used: for alpha =0.0001:\", coeff_used00001)"
      ],
      "execution_count": 0,
      "outputs": [
        {
          "output_type": "stream",
          "text": [
            "training score for alpha=0.0001: 0.5737442482228854\n",
            "test score for alpha =0.0001:  0.5420196314205772\n",
            "number of features used: for alpha =0.0001: 207\n"
          ],
          "name": "stdout"
        }
      ]
    },
    {
      "metadata": {
        "id": "M8Loj63x2v9K",
        "colab_type": "code",
        "colab": {}
      },
      "cell_type": "code",
      "source": [
        "lr = LinearRegression()\n",
        "lr.fit(X_train3,y_train3)\n",
        "lr_train_score=lr.score(X_train3,y_train3)\n",
        "lr_test_score=lr.score(X_test3,y_test3)"
      ],
      "execution_count": 0,
      "outputs": []
    },
    {
      "metadata": {
        "id": "M0PXtxNa231p",
        "colab_type": "code",
        "outputId": "fbf05e54-cb3b-41f0-bebf-76e0e09d7c33",
        "colab": {
          "base_uri": "https://localhost:8080/",
          "height": 52
        }
      },
      "cell_type": "code",
      "source": [
        "print (\"LR training score:\", lr_train_score )\n",
        "print (\"LR test score: \", lr_test_score)"
      ],
      "execution_count": 0,
      "outputs": [
        {
          "output_type": "stream",
          "text": [
            "LR training score: 0.5737448527071141\n",
            "LR test score:  0.5422375310790682\n"
          ],
          "name": "stdout"
        }
      ]
    },
    {
      "metadata": {
        "id": "M-0RE0T43B-Y",
        "colab_type": "code",
        "outputId": "6c5f97a2-fd83-48cc-d518-47abd5584130",
        "colab": {
          "base_uri": "https://localhost:8080/",
          "height": 383
        }
      },
      "cell_type": "code",
      "source": [
        "plt.subplot(1,2,1)\n",
        "plt.plot(lasso.coef_,alpha=0.7,linestyle='none',marker='*',markersize=5,color='red',label=r'Lasso; $\\alpha = 1$',zorder=7) # alpha transparency\n",
        "plt.plot(lasso001.coef_,alpha=0.5,linestyle='none',marker='d',markersize=6,color='blue',label=r'Lasso; $\\alpha = 0.01$') # alpha transparency\n",
        "\n",
        "plt.xlabel('Coefficient Index',fontsize=16)\n",
        "plt.ylabel('Coefficient Magnitude',fontsize=16)\n",
        "plt.legend(fontsize=13,loc=4)"
      ],
      "execution_count": 0,
      "outputs": [
        {
          "output_type": "execute_result",
          "data": {
            "text/plain": [
              "<matplotlib.legend.Legend at 0x7f71e191fa58>"
            ]
          },
          "metadata": {
            "tags": []
          },
          "execution_count": 62
        },
        {
          "output_type": "display_data",
          "data": {
            "image/png": "[encoded data removed]",
            "text/plain": [
              "<Figure size 576x396 with 1 Axes>"
            ]
          },
          "metadata": {
            "tags": []
          }
        }
      ]
    },
    {
      "metadata": {
        "id": "sUtzWalE3Sd-",
        "colab_type": "code",
        "outputId": "26830a62-09bc-44f6-890f-a922f22be138",
        "colab": {
          "base_uri": "https://localhost:8080/",
          "height": 418
        }
      },
      "cell_type": "code",
      "source": [
        "plt.subplot(1,2,2)\n",
        "plt.plot(lasso.coef_,alpha=0.7,linestyle='none',marker='*',markersize=5,color='red',zorder=7) #  Lasso\n",
        "plt.plot(lasso001.coef_,alpha=0.5,linestyle='none',marker='d',markersize=6,color='blue') #  Lasso 0.01\n",
        "plt.plot(lasso00001.coef_,alpha=0.8,linestyle='none',marker='v',markersize=6,color='black',) # Lasso 0.00001\n",
        "plt.plot(lr.coef_,alpha=0.7,linestyle='none',marker='o',markersize=5,color='green',zorder=2) #'Linear Regression'\n",
        "plt.xlabel('Coefficient Index',fontsize=16)\n",
        "plt.ylabel('Coefficient Magnitude',fontsize=16)\n",
        "plt.legend(fontsize=13,loc=4)\n",
        "plt.tight_layout()\n",
        "plt.show()"
      ],
      "execution_count": 0,
      "outputs": [
        {
          "output_type": "stream",
          "text": [
            "No handles with labels found to put in legend.\n"
          ],
          "name": "stderr"
        },
        {
          "output_type": "display_data",
          "data": {
            "image/png": "[encoded data removed]",
            "text/plain": [
              "<Figure size 576x396 with 1 Axes>"
            ]
          },
          "metadata": {
            "tags": []
          }
        }
      ]
    }
  ]
}